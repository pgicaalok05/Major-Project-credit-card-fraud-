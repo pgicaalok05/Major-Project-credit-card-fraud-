{
  "cells": [
    {
      "cell_type": "markdown",
      "metadata": {
        "id": "GrAs0WrGimni"
      },
      "source": [
        "KNN, SVM, Randomforest, Logistic Regression, Decision tree"
      ]
    },
    {
      "cell_type": "code",
      "execution_count": null,
      "metadata": {
        "id": "hDN4Bd3hMIM4"
      },
      "outputs": [],
      "source": [
        "import numpy as np\n",
        "import matplotlib.pyplot as plt\n",
        "import pandas as pd"
      ]
    },
    {
      "cell_type": "code",
      "execution_count": null,
      "metadata": {
        "colab": {
          "base_uri": "https://localhost:8080/",
          "height": 74,
          "resources": {
            "http://localhost:8080/nbextensions/google.colab/files.js": {
              "data": "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",
              "headers": [
                [
                  "content-type",
                  "application/javascript"
                ]
              ],
              "ok": true,
              "status": 200,
              "status_text": ""
            }
          }
        },
        "id": "hgjvI3EenRV_",
        "outputId": "f2b7d75d-c951-461a-e650-eebf0a89ae58"
      },
      "outputs": [
        {
          "output_type": "display_data",
          "data": {
            "text/plain": [
              "<IPython.core.display.HTML object>"
            ],
            "text/html": [
              "\n",
              "     <input type=\"file\" id=\"files-203103c4-391a-4dc6-ad61-8a15739e8a9e\" name=\"files[]\" multiple disabled\n",
              "        style=\"border:none\" />\n",
              "     <output id=\"result-203103c4-391a-4dc6-ad61-8a15739e8a9e\">\n",
              "      Upload widget is only available when the cell has been executed in the\n",
              "      current browser session. Please rerun this cell to enable.\n",
              "      </output>\n",
              "      <script src=\"/nbextensions/google.colab/files.js\"></script> "
            ]
          },
          "metadata": {}
        },
        {
          "output_type": "stream",
          "name": "stdout",
          "text": [
            "Saving creditcard.csv to creditcard.csv\n"
          ]
        }
      ],
      "source": [
        "from google.colab import files\n",
        "uploaded = files.upload()"
      ]
    },
    {
      "cell_type": "code",
      "execution_count": null,
      "metadata": {
        "colab": {
          "base_uri": "https://localhost:8080/",
          "height": 488
        },
        "id": "0UV8VJ0QakWt",
        "outputId": "c8c19458-4b16-474d-9320-634ac107e83c"
      },
      "outputs": [
        {
          "output_type": "execute_result",
          "data": {
            "text/plain": [
              "            Time         V1         V2        V3        V4        V5  \\\n",
              "0            0.0  -1.359807  -0.072781  2.536347  1.378155 -0.338321   \n",
              "1            0.0   1.191857   0.266151  0.166480  0.448154  0.060018   \n",
              "2            1.0  -1.358354  -1.340163  1.773209  0.379780 -0.503198   \n",
              "3            1.0  -0.966272  -0.185226  1.792993 -0.863291 -0.010309   \n",
              "4            2.0  -1.158233   0.877737  1.548718  0.403034 -0.407193   \n",
              "...          ...        ...        ...       ...       ...       ...   \n",
              "284802  172786.0 -11.881118  10.071785 -9.834783 -2.066656 -5.364473   \n",
              "284803  172787.0  -0.732789  -0.055080  2.035030 -0.738589  0.868229   \n",
              "284804  172788.0   1.919565  -0.301254 -3.249640 -0.557828  2.630515   \n",
              "284805  172788.0  -0.240440   0.530483  0.702510  0.689799 -0.377961   \n",
              "284806  172792.0  -0.533413  -0.189733  0.703337 -0.506271 -0.012546   \n",
              "\n",
              "              V6        V7        V8        V9  ...       V21       V22  \\\n",
              "0       0.462388  0.239599  0.098698  0.363787  ... -0.018307  0.277838   \n",
              "1      -0.082361 -0.078803  0.085102 -0.255425  ... -0.225775 -0.638672   \n",
              "2       1.800499  0.791461  0.247676 -1.514654  ...  0.247998  0.771679   \n",
              "3       1.247203  0.237609  0.377436 -1.387024  ... -0.108300  0.005274   \n",
              "4       0.095921  0.592941 -0.270533  0.817739  ... -0.009431  0.798278   \n",
              "...          ...       ...       ...       ...  ...       ...       ...   \n",
              "284802 -2.606837 -4.918215  7.305334  1.914428  ...  0.213454  0.111864   \n",
              "284803  1.058415  0.024330  0.294869  0.584800  ...  0.214205  0.924384   \n",
              "284804  3.031260 -0.296827  0.708417  0.432454  ...  0.232045  0.578229   \n",
              "284805  0.623708 -0.686180  0.679145  0.392087  ...  0.265245  0.800049   \n",
              "284806 -0.649617  1.577006 -0.414650  0.486180  ...  0.261057  0.643078   \n",
              "\n",
              "             V23       V24       V25       V26       V27       V28  Amount  \\\n",
              "0      -0.110474  0.066928  0.128539 -0.189115  0.133558 -0.021053  149.62   \n",
              "1       0.101288 -0.339846  0.167170  0.125895 -0.008983  0.014724    2.69   \n",
              "2       0.909412 -0.689281 -0.327642 -0.139097 -0.055353 -0.059752  378.66   \n",
              "3      -0.190321 -1.175575  0.647376 -0.221929  0.062723  0.061458  123.50   \n",
              "4      -0.137458  0.141267 -0.206010  0.502292  0.219422  0.215153   69.99   \n",
              "...          ...       ...       ...       ...       ...       ...     ...   \n",
              "284802  1.014480 -0.509348  1.436807  0.250034  0.943651  0.823731    0.77   \n",
              "284803  0.012463 -1.016226 -0.606624 -0.395255  0.068472 -0.053527   24.79   \n",
              "284804 -0.037501  0.640134  0.265745 -0.087371  0.004455 -0.026561   67.88   \n",
              "284805 -0.163298  0.123205 -0.569159  0.546668  0.108821  0.104533   10.00   \n",
              "284806  0.376777  0.008797 -0.473649 -0.818267 -0.002415  0.013649  217.00   \n",
              "\n",
              "        Class  \n",
              "0           0  \n",
              "1           0  \n",
              "2           0  \n",
              "3           0  \n",
              "4           0  \n",
              "...       ...  \n",
              "284802      0  \n",
              "284803      0  \n",
              "284804      0  \n",
              "284805      0  \n",
              "284806      0  \n",
              "\n",
              "[284807 rows x 31 columns]"
            ],
            "text/html": [
              "\n",
              "  <div id=\"df-d1b14d06-4294-43ca-a64e-20228cc25365\">\n",
              "    <div class=\"colab-df-container\">\n",
              "      <div>\n",
              "<style scoped>\n",
              "    .dataframe tbody tr th:only-of-type {\n",
              "        vertical-align: middle;\n",
              "    }\n",
              "\n",
              "    .dataframe tbody tr th {\n",
              "        vertical-align: top;\n",
              "    }\n",
              "\n",
              "    .dataframe thead th {\n",
              "        text-align: right;\n",
              "    }\n",
              "</style>\n",
              "<table border=\"1\" class=\"dataframe\">\n",
              "  <thead>\n",
              "    <tr style=\"text-align: right;\">\n",
              "      <th></th>\n",
              "      <th>Time</th>\n",
              "      <th>V1</th>\n",
              "      <th>V2</th>\n",
              "      <th>V3</th>\n",
              "      <th>V4</th>\n",
              "      <th>V5</th>\n",
              "      <th>V6</th>\n",
              "      <th>V7</th>\n",
              "      <th>V8</th>\n",
              "      <th>V9</th>\n",
              "      <th>...</th>\n",
              "      <th>V21</th>\n",
              "      <th>V22</th>\n",
              "      <th>V23</th>\n",
              "      <th>V24</th>\n",
              "      <th>V25</th>\n",
              "      <th>V26</th>\n",
              "      <th>V27</th>\n",
              "      <th>V28</th>\n",
              "      <th>Amount</th>\n",
              "      <th>Class</th>\n",
              "    </tr>\n",
              "  </thead>\n",
              "  <tbody>\n",
              "    <tr>\n",
              "      <th>0</th>\n",
              "      <td>0.0</td>\n",
              "      <td>-1.359807</td>\n",
              "      <td>-0.072781</td>\n",
              "      <td>2.536347</td>\n",
              "      <td>1.378155</td>\n",
              "      <td>-0.338321</td>\n",
              "      <td>0.462388</td>\n",
              "      <td>0.239599</td>\n",
              "      <td>0.098698</td>\n",
              "      <td>0.363787</td>\n",
              "      <td>...</td>\n",
              "      <td>-0.018307</td>\n",
              "      <td>0.277838</td>\n",
              "      <td>-0.110474</td>\n",
              "      <td>0.066928</td>\n",
              "      <td>0.128539</td>\n",
              "      <td>-0.189115</td>\n",
              "      <td>0.133558</td>\n",
              "      <td>-0.021053</td>\n",
              "      <td>149.62</td>\n",
              "      <td>0</td>\n",
              "    </tr>\n",
              "    <tr>\n",
              "      <th>1</th>\n",
              "      <td>0.0</td>\n",
              "      <td>1.191857</td>\n",
              "      <td>0.266151</td>\n",
              "      <td>0.166480</td>\n",
              "      <td>0.448154</td>\n",
              "      <td>0.060018</td>\n",
              "      <td>-0.082361</td>\n",
              "      <td>-0.078803</td>\n",
              "      <td>0.085102</td>\n",
              "      <td>-0.255425</td>\n",
              "      <td>...</td>\n",
              "      <td>-0.225775</td>\n",
              "      <td>-0.638672</td>\n",
              "      <td>0.101288</td>\n",
              "      <td>-0.339846</td>\n",
              "      <td>0.167170</td>\n",
              "      <td>0.125895</td>\n",
              "      <td>-0.008983</td>\n",
              "      <td>0.014724</td>\n",
              "      <td>2.69</td>\n",
              "      <td>0</td>\n",
              "    </tr>\n",
              "    <tr>\n",
              "      <th>2</th>\n",
              "      <td>1.0</td>\n",
              "      <td>-1.358354</td>\n",
              "      <td>-1.340163</td>\n",
              "      <td>1.773209</td>\n",
              "      <td>0.379780</td>\n",
              "      <td>-0.503198</td>\n",
              "      <td>1.800499</td>\n",
              "      <td>0.791461</td>\n",
              "      <td>0.247676</td>\n",
              "      <td>-1.514654</td>\n",
              "      <td>...</td>\n",
              "      <td>0.247998</td>\n",
              "      <td>0.771679</td>\n",
              "      <td>0.909412</td>\n",
              "      <td>-0.689281</td>\n",
              "      <td>-0.327642</td>\n",
              "      <td>-0.139097</td>\n",
              "      <td>-0.055353</td>\n",
              "      <td>-0.059752</td>\n",
              "      <td>378.66</td>\n",
              "      <td>0</td>\n",
              "    </tr>\n",
              "    <tr>\n",
              "      <th>3</th>\n",
              "      <td>1.0</td>\n",
              "      <td>-0.966272</td>\n",
              "      <td>-0.185226</td>\n",
              "      <td>1.792993</td>\n",
              "      <td>-0.863291</td>\n",
              "      <td>-0.010309</td>\n",
              "      <td>1.247203</td>\n",
              "      <td>0.237609</td>\n",
              "      <td>0.377436</td>\n",
              "      <td>-1.387024</td>\n",
              "      <td>...</td>\n",
              "      <td>-0.108300</td>\n",
              "      <td>0.005274</td>\n",
              "      <td>-0.190321</td>\n",
              "      <td>-1.175575</td>\n",
              "      <td>0.647376</td>\n",
              "      <td>-0.221929</td>\n",
              "      <td>0.062723</td>\n",
              "      <td>0.061458</td>\n",
              "      <td>123.50</td>\n",
              "      <td>0</td>\n",
              "    </tr>\n",
              "    <tr>\n",
              "      <th>4</th>\n",
              "      <td>2.0</td>\n",
              "      <td>-1.158233</td>\n",
              "      <td>0.877737</td>\n",
              "      <td>1.548718</td>\n",
              "      <td>0.403034</td>\n",
              "      <td>-0.407193</td>\n",
              "      <td>0.095921</td>\n",
              "      <td>0.592941</td>\n",
              "      <td>-0.270533</td>\n",
              "      <td>0.817739</td>\n",
              "      <td>...</td>\n",
              "      <td>-0.009431</td>\n",
              "      <td>0.798278</td>\n",
              "      <td>-0.137458</td>\n",
              "      <td>0.141267</td>\n",
              "      <td>-0.206010</td>\n",
              "      <td>0.502292</td>\n",
              "      <td>0.219422</td>\n",
              "      <td>0.215153</td>\n",
              "      <td>69.99</td>\n",
              "      <td>0</td>\n",
              "    </tr>\n",
              "    <tr>\n",
              "      <th>...</th>\n",
              "      <td>...</td>\n",
              "      <td>...</td>\n",
              "      <td>...</td>\n",
              "      <td>...</td>\n",
              "      <td>...</td>\n",
              "      <td>...</td>\n",
              "      <td>...</td>\n",
              "      <td>...</td>\n",
              "      <td>...</td>\n",
              "      <td>...</td>\n",
              "      <td>...</td>\n",
              "      <td>...</td>\n",
              "      <td>...</td>\n",
              "      <td>...</td>\n",
              "      <td>...</td>\n",
              "      <td>...</td>\n",
              "      <td>...</td>\n",
              "      <td>...</td>\n",
              "      <td>...</td>\n",
              "      <td>...</td>\n",
              "      <td>...</td>\n",
              "    </tr>\n",
              "    <tr>\n",
              "      <th>284802</th>\n",
              "      <td>172786.0</td>\n",
              "      <td>-11.881118</td>\n",
              "      <td>10.071785</td>\n",
              "      <td>-9.834783</td>\n",
              "      <td>-2.066656</td>\n",
              "      <td>-5.364473</td>\n",
              "      <td>-2.606837</td>\n",
              "      <td>-4.918215</td>\n",
              "      <td>7.305334</td>\n",
              "      <td>1.914428</td>\n",
              "      <td>...</td>\n",
              "      <td>0.213454</td>\n",
              "      <td>0.111864</td>\n",
              "      <td>1.014480</td>\n",
              "      <td>-0.509348</td>\n",
              "      <td>1.436807</td>\n",
              "      <td>0.250034</td>\n",
              "      <td>0.943651</td>\n",
              "      <td>0.823731</td>\n",
              "      <td>0.77</td>\n",
              "      <td>0</td>\n",
              "    </tr>\n",
              "    <tr>\n",
              "      <th>284803</th>\n",
              "      <td>172787.0</td>\n",
              "      <td>-0.732789</td>\n",
              "      <td>-0.055080</td>\n",
              "      <td>2.035030</td>\n",
              "      <td>-0.738589</td>\n",
              "      <td>0.868229</td>\n",
              "      <td>1.058415</td>\n",
              "      <td>0.024330</td>\n",
              "      <td>0.294869</td>\n",
              "      <td>0.584800</td>\n",
              "      <td>...</td>\n",
              "      <td>0.214205</td>\n",
              "      <td>0.924384</td>\n",
              "      <td>0.012463</td>\n",
              "      <td>-1.016226</td>\n",
              "      <td>-0.606624</td>\n",
              "      <td>-0.395255</td>\n",
              "      <td>0.068472</td>\n",
              "      <td>-0.053527</td>\n",
              "      <td>24.79</td>\n",
              "      <td>0</td>\n",
              "    </tr>\n",
              "    <tr>\n",
              "      <th>284804</th>\n",
              "      <td>172788.0</td>\n",
              "      <td>1.919565</td>\n",
              "      <td>-0.301254</td>\n",
              "      <td>-3.249640</td>\n",
              "      <td>-0.557828</td>\n",
              "      <td>2.630515</td>\n",
              "      <td>3.031260</td>\n",
              "      <td>-0.296827</td>\n",
              "      <td>0.708417</td>\n",
              "      <td>0.432454</td>\n",
              "      <td>...</td>\n",
              "      <td>0.232045</td>\n",
              "      <td>0.578229</td>\n",
              "      <td>-0.037501</td>\n",
              "      <td>0.640134</td>\n",
              "      <td>0.265745</td>\n",
              "      <td>-0.087371</td>\n",
              "      <td>0.004455</td>\n",
              "      <td>-0.026561</td>\n",
              "      <td>67.88</td>\n",
              "      <td>0</td>\n",
              "    </tr>\n",
              "    <tr>\n",
              "      <th>284805</th>\n",
              "      <td>172788.0</td>\n",
              "      <td>-0.240440</td>\n",
              "      <td>0.530483</td>\n",
              "      <td>0.702510</td>\n",
              "      <td>0.689799</td>\n",
              "      <td>-0.377961</td>\n",
              "      <td>0.623708</td>\n",
              "      <td>-0.686180</td>\n",
              "      <td>0.679145</td>\n",
              "      <td>0.392087</td>\n",
              "      <td>...</td>\n",
              "      <td>0.265245</td>\n",
              "      <td>0.800049</td>\n",
              "      <td>-0.163298</td>\n",
              "      <td>0.123205</td>\n",
              "      <td>-0.569159</td>\n",
              "      <td>0.546668</td>\n",
              "      <td>0.108821</td>\n",
              "      <td>0.104533</td>\n",
              "      <td>10.00</td>\n",
              "      <td>0</td>\n",
              "    </tr>\n",
              "    <tr>\n",
              "      <th>284806</th>\n",
              "      <td>172792.0</td>\n",
              "      <td>-0.533413</td>\n",
              "      <td>-0.189733</td>\n",
              "      <td>0.703337</td>\n",
              "      <td>-0.506271</td>\n",
              "      <td>-0.012546</td>\n",
              "      <td>-0.649617</td>\n",
              "      <td>1.577006</td>\n",
              "      <td>-0.414650</td>\n",
              "      <td>0.486180</td>\n",
              "      <td>...</td>\n",
              "      <td>0.261057</td>\n",
              "      <td>0.643078</td>\n",
              "      <td>0.376777</td>\n",
              "      <td>0.008797</td>\n",
              "      <td>-0.473649</td>\n",
              "      <td>-0.818267</td>\n",
              "      <td>-0.002415</td>\n",
              "      <td>0.013649</td>\n",
              "      <td>217.00</td>\n",
              "      <td>0</td>\n",
              "    </tr>\n",
              "  </tbody>\n",
              "</table>\n",
              "<p>284807 rows × 31 columns</p>\n",
              "</div>\n",
              "      <button class=\"colab-df-convert\" onclick=\"convertToInteractive('df-d1b14d06-4294-43ca-a64e-20228cc25365')\"\n",
              "              title=\"Convert this dataframe to an interactive table.\"\n",
              "              style=\"display:none;\">\n",
              "        \n",
              "  <svg xmlns=\"http://www.w3.org/2000/svg\" height=\"24px\"viewBox=\"0 0 24 24\"\n",
              "       width=\"24px\">\n",
              "    <path d=\"M0 0h24v24H0V0z\" fill=\"none\"/>\n",
              "    <path d=\"M18.56 5.44l.94 2.06.94-2.06 2.06-.94-2.06-.94-.94-2.06-.94 2.06-2.06.94zm-11 1L8.5 8.5l.94-2.06 2.06-.94-2.06-.94L8.5 2.5l-.94 2.06-2.06.94zm10 10l.94 2.06.94-2.06 2.06-.94-2.06-.94-.94-2.06-.94 2.06-2.06.94z\"/><path d=\"M17.41 7.96l-1.37-1.37c-.4-.4-.92-.59-1.43-.59-.52 0-1.04.2-1.43.59L10.3 9.45l-7.72 7.72c-.78.78-.78 2.05 0 2.83L4 21.41c.39.39.9.59 1.41.59.51 0 1.02-.2 1.41-.59l7.78-7.78 2.81-2.81c.8-.78.8-2.07 0-2.86zM5.41 20L4 18.59l7.72-7.72 1.47 1.35L5.41 20z\"/>\n",
              "  </svg>\n",
              "      </button>\n",
              "      \n",
              "  <style>\n",
              "    .colab-df-container {\n",
              "      display:flex;\n",
              "      flex-wrap:wrap;\n",
              "      gap: 12px;\n",
              "    }\n",
              "\n",
              "    .colab-df-convert {\n",
              "      background-color: #E8F0FE;\n",
              "      border: none;\n",
              "      border-radius: 50%;\n",
              "      cursor: pointer;\n",
              "      display: none;\n",
              "      fill: #1967D2;\n",
              "      height: 32px;\n",
              "      padding: 0 0 0 0;\n",
              "      width: 32px;\n",
              "    }\n",
              "\n",
              "    .colab-df-convert:hover {\n",
              "      background-color: #E2EBFA;\n",
              "      box-shadow: 0px 1px 2px rgba(60, 64, 67, 0.3), 0px 1px 3px 1px rgba(60, 64, 67, 0.15);\n",
              "      fill: #174EA6;\n",
              "    }\n",
              "\n",
              "    [theme=dark] .colab-df-convert {\n",
              "      background-color: #3B4455;\n",
              "      fill: #D2E3FC;\n",
              "    }\n",
              "\n",
              "    [theme=dark] .colab-df-convert:hover {\n",
              "      background-color: #434B5C;\n",
              "      box-shadow: 0px 1px 3px 1px rgba(0, 0, 0, 0.15);\n",
              "      filter: drop-shadow(0px 1px 2px rgba(0, 0, 0, 0.3));\n",
              "      fill: #FFFFFF;\n",
              "    }\n",
              "  </style>\n",
              "\n",
              "      <script>\n",
              "        const buttonEl =\n",
              "          document.querySelector('#df-d1b14d06-4294-43ca-a64e-20228cc25365 button.colab-df-convert');\n",
              "        buttonEl.style.display =\n",
              "          google.colab.kernel.accessAllowed ? 'block' : 'none';\n",
              "\n",
              "        async function convertToInteractive(key) {\n",
              "          const element = document.querySelector('#df-d1b14d06-4294-43ca-a64e-20228cc25365');\n",
              "          const dataTable =\n",
              "            await google.colab.kernel.invokeFunction('convertToInteractive',\n",
              "                                                     [key], {});\n",
              "          if (!dataTable) return;\n",
              "\n",
              "          const docLinkHtml = 'Like what you see? Visit the ' +\n",
              "            '<a target=\"_blank\" href=https://colab.research.google.com/notebooks/data_table.ipynb>data table notebook</a>'\n",
              "            + ' to learn more about interactive tables.';\n",
              "          element.innerHTML = '';\n",
              "          dataTable['output_type'] = 'display_data';\n",
              "          await google.colab.output.renderOutput(dataTable, element);\n",
              "          const docLink = document.createElement('div');\n",
              "          docLink.innerHTML = docLinkHtml;\n",
              "          element.appendChild(docLink);\n",
              "        }\n",
              "      </script>\n",
              "    </div>\n",
              "  </div>\n",
              "  "
            ]
          },
          "metadata": {},
          "execution_count": 3
        }
      ],
      "source": [
        "dataset = pd.read_csv('creditcard.csv')\n",
        "dataset"
      ]
    },
    {
      "cell_type": "code",
      "execution_count": null,
      "metadata": {
        "colab": {
          "base_uri": "https://localhost:8080/"
        },
        "id": "Ba828bjQVBxB",
        "outputId": "ff404eb8-cd13-4f44-fcf7-8240161721cc"
      },
      "outputs": [
        {
          "output_type": "execute_result",
          "data": {
            "text/plain": [
              "Time      0\n",
              "V1        0\n",
              "V2        0\n",
              "V3        0\n",
              "V4        0\n",
              "V5        0\n",
              "V6        0\n",
              "V7        0\n",
              "V8        0\n",
              "V9        0\n",
              "V10       0\n",
              "V11       0\n",
              "V12       0\n",
              "V13       0\n",
              "V14       0\n",
              "V15       0\n",
              "V16       0\n",
              "V17       0\n",
              "V18       0\n",
              "V19       0\n",
              "V20       0\n",
              "V21       0\n",
              "V22       0\n",
              "V23       0\n",
              "V24       0\n",
              "V25       0\n",
              "V26       0\n",
              "V27       0\n",
              "V28       0\n",
              "Amount    0\n",
              "Class     0\n",
              "dtype: int64"
            ]
          },
          "metadata": {},
          "execution_count": 4
        }
      ],
      "source": [
        "dataset.isnull().sum()"
      ]
    },
    {
      "cell_type": "code",
      "execution_count": null,
      "metadata": {
        "colab": {
          "base_uri": "https://localhost:8080/",
          "height": 393
        },
        "id": "eJQbuov-Vngm",
        "outputId": "e5f56a8b-5191-443a-b1d3-e4e17f8f4285"
      },
      "outputs": [
        {
          "output_type": "execute_result",
          "data": {
            "text/plain": [
              "                Time            V1            V2            V3            V4  \\\n",
              "count  284807.000000  2.848070e+05  2.848070e+05  2.848070e+05  2.848070e+05   \n",
              "mean    94813.859575  1.168375e-15  3.416908e-16 -1.379537e-15  2.074095e-15   \n",
              "std     47488.145955  1.958696e+00  1.651309e+00  1.516255e+00  1.415869e+00   \n",
              "min         0.000000 -5.640751e+01 -7.271573e+01 -4.832559e+01 -5.683171e+00   \n",
              "25%     54201.500000 -9.203734e-01 -5.985499e-01 -8.903648e-01 -8.486401e-01   \n",
              "50%     84692.000000  1.810880e-02  6.548556e-02  1.798463e-01 -1.984653e-02   \n",
              "75%    139320.500000  1.315642e+00  8.037239e-01  1.027196e+00  7.433413e-01   \n",
              "max    172792.000000  2.454930e+00  2.205773e+01  9.382558e+00  1.687534e+01   \n",
              "\n",
              "                 V5            V6            V7            V8            V9  \\\n",
              "count  2.848070e+05  2.848070e+05  2.848070e+05  2.848070e+05  2.848070e+05   \n",
              "mean   9.604066e-16  1.487313e-15 -5.556467e-16  1.213481e-16 -2.406331e-15   \n",
              "std    1.380247e+00  1.332271e+00  1.237094e+00  1.194353e+00  1.098632e+00   \n",
              "min   -1.137433e+02 -2.616051e+01 -4.355724e+01 -7.321672e+01 -1.343407e+01   \n",
              "25%   -6.915971e-01 -7.682956e-01 -5.540759e-01 -2.086297e-01 -6.430976e-01   \n",
              "50%   -5.433583e-02 -2.741871e-01  4.010308e-02  2.235804e-02 -5.142873e-02   \n",
              "75%    6.119264e-01  3.985649e-01  5.704361e-01  3.273459e-01  5.971390e-01   \n",
              "max    3.480167e+01  7.330163e+01  1.205895e+02  2.000721e+01  1.559499e+01   \n",
              "\n",
              "       ...           V21           V22           V23           V24  \\\n",
              "count  ...  2.848070e+05  2.848070e+05  2.848070e+05  2.848070e+05   \n",
              "mean   ...  1.654067e-16 -3.568593e-16  2.578648e-16  4.473266e-15   \n",
              "std    ...  7.345240e-01  7.257016e-01  6.244603e-01  6.056471e-01   \n",
              "min    ... -3.483038e+01 -1.093314e+01 -4.480774e+01 -2.836627e+00   \n",
              "25%    ... -2.283949e-01 -5.423504e-01 -1.618463e-01 -3.545861e-01   \n",
              "50%    ... -2.945017e-02  6.781943e-03 -1.119293e-02  4.097606e-02   \n",
              "75%    ...  1.863772e-01  5.285536e-01  1.476421e-01  4.395266e-01   \n",
              "max    ...  2.720284e+01  1.050309e+01  2.252841e+01  4.584549e+00   \n",
              "\n",
              "                V25           V26           V27           V28         Amount  \\\n",
              "count  2.848070e+05  2.848070e+05  2.848070e+05  2.848070e+05  284807.000000   \n",
              "mean   5.340915e-16  1.683437e-15 -3.660091e-16 -1.227390e-16      88.349619   \n",
              "std    5.212781e-01  4.822270e-01  4.036325e-01  3.300833e-01     250.120109   \n",
              "min   -1.029540e+01 -2.604551e+00 -2.256568e+01 -1.543008e+01       0.000000   \n",
              "25%   -3.171451e-01 -3.269839e-01 -7.083953e-02 -5.295979e-02       5.600000   \n",
              "50%    1.659350e-02 -5.213911e-02  1.342146e-03  1.124383e-02      22.000000   \n",
              "75%    3.507156e-01  2.409522e-01  9.104512e-02  7.827995e-02      77.165000   \n",
              "max    7.519589e+00  3.517346e+00  3.161220e+01  3.384781e+01   25691.160000   \n",
              "\n",
              "               Class  \n",
              "count  284807.000000  \n",
              "mean        0.001727  \n",
              "std         0.041527  \n",
              "min         0.000000  \n",
              "25%         0.000000  \n",
              "50%         0.000000  \n",
              "75%         0.000000  \n",
              "max         1.000000  \n",
              "\n",
              "[8 rows x 31 columns]"
            ],
            "text/html": [
              "\n",
              "  <div id=\"df-9ebb1cb8-5ace-4d4f-85d7-3172b98b5746\">\n",
              "    <div class=\"colab-df-container\">\n",
              "      <div>\n",
              "<style scoped>\n",
              "    .dataframe tbody tr th:only-of-type {\n",
              "        vertical-align: middle;\n",
              "    }\n",
              "\n",
              "    .dataframe tbody tr th {\n",
              "        vertical-align: top;\n",
              "    }\n",
              "\n",
              "    .dataframe thead th {\n",
              "        text-align: right;\n",
              "    }\n",
              "</style>\n",
              "<table border=\"1\" class=\"dataframe\">\n",
              "  <thead>\n",
              "    <tr style=\"text-align: right;\">\n",
              "      <th></th>\n",
              "      <th>Time</th>\n",
              "      <th>V1</th>\n",
              "      <th>V2</th>\n",
              "      <th>V3</th>\n",
              "      <th>V4</th>\n",
              "      <th>V5</th>\n",
              "      <th>V6</th>\n",
              "      <th>V7</th>\n",
              "      <th>V8</th>\n",
              "      <th>V9</th>\n",
              "      <th>...</th>\n",
              "      <th>V21</th>\n",
              "      <th>V22</th>\n",
              "      <th>V23</th>\n",
              "      <th>V24</th>\n",
              "      <th>V25</th>\n",
              "      <th>V26</th>\n",
              "      <th>V27</th>\n",
              "      <th>V28</th>\n",
              "      <th>Amount</th>\n",
              "      <th>Class</th>\n",
              "    </tr>\n",
              "  </thead>\n",
              "  <tbody>\n",
              "    <tr>\n",
              "      <th>count</th>\n",
              "      <td>284807.000000</td>\n",
              "      <td>2.848070e+05</td>\n",
              "      <td>2.848070e+05</td>\n",
              "      <td>2.848070e+05</td>\n",
              "      <td>2.848070e+05</td>\n",
              "      <td>2.848070e+05</td>\n",
              "      <td>2.848070e+05</td>\n",
              "      <td>2.848070e+05</td>\n",
              "      <td>2.848070e+05</td>\n",
              "      <td>2.848070e+05</td>\n",
              "      <td>...</td>\n",
              "      <td>2.848070e+05</td>\n",
              "      <td>2.848070e+05</td>\n",
              "      <td>2.848070e+05</td>\n",
              "      <td>2.848070e+05</td>\n",
              "      <td>2.848070e+05</td>\n",
              "      <td>2.848070e+05</td>\n",
              "      <td>2.848070e+05</td>\n",
              "      <td>2.848070e+05</td>\n",
              "      <td>284807.000000</td>\n",
              "      <td>284807.000000</td>\n",
              "    </tr>\n",
              "    <tr>\n",
              "      <th>mean</th>\n",
              "      <td>94813.859575</td>\n",
              "      <td>1.168375e-15</td>\n",
              "      <td>3.416908e-16</td>\n",
              "      <td>-1.379537e-15</td>\n",
              "      <td>2.074095e-15</td>\n",
              "      <td>9.604066e-16</td>\n",
              "      <td>1.487313e-15</td>\n",
              "      <td>-5.556467e-16</td>\n",
              "      <td>1.213481e-16</td>\n",
              "      <td>-2.406331e-15</td>\n",
              "      <td>...</td>\n",
              "      <td>1.654067e-16</td>\n",
              "      <td>-3.568593e-16</td>\n",
              "      <td>2.578648e-16</td>\n",
              "      <td>4.473266e-15</td>\n",
              "      <td>5.340915e-16</td>\n",
              "      <td>1.683437e-15</td>\n",
              "      <td>-3.660091e-16</td>\n",
              "      <td>-1.227390e-16</td>\n",
              "      <td>88.349619</td>\n",
              "      <td>0.001727</td>\n",
              "    </tr>\n",
              "    <tr>\n",
              "      <th>std</th>\n",
              "      <td>47488.145955</td>\n",
              "      <td>1.958696e+00</td>\n",
              "      <td>1.651309e+00</td>\n",
              "      <td>1.516255e+00</td>\n",
              "      <td>1.415869e+00</td>\n",
              "      <td>1.380247e+00</td>\n",
              "      <td>1.332271e+00</td>\n",
              "      <td>1.237094e+00</td>\n",
              "      <td>1.194353e+00</td>\n",
              "      <td>1.098632e+00</td>\n",
              "      <td>...</td>\n",
              "      <td>7.345240e-01</td>\n",
              "      <td>7.257016e-01</td>\n",
              "      <td>6.244603e-01</td>\n",
              "      <td>6.056471e-01</td>\n",
              "      <td>5.212781e-01</td>\n",
              "      <td>4.822270e-01</td>\n",
              "      <td>4.036325e-01</td>\n",
              "      <td>3.300833e-01</td>\n",
              "      <td>250.120109</td>\n",
              "      <td>0.041527</td>\n",
              "    </tr>\n",
              "    <tr>\n",
              "      <th>min</th>\n",
              "      <td>0.000000</td>\n",
              "      <td>-5.640751e+01</td>\n",
              "      <td>-7.271573e+01</td>\n",
              "      <td>-4.832559e+01</td>\n",
              "      <td>-5.683171e+00</td>\n",
              "      <td>-1.137433e+02</td>\n",
              "      <td>-2.616051e+01</td>\n",
              "      <td>-4.355724e+01</td>\n",
              "      <td>-7.321672e+01</td>\n",
              "      <td>-1.343407e+01</td>\n",
              "      <td>...</td>\n",
              "      <td>-3.483038e+01</td>\n",
              "      <td>-1.093314e+01</td>\n",
              "      <td>-4.480774e+01</td>\n",
              "      <td>-2.836627e+00</td>\n",
              "      <td>-1.029540e+01</td>\n",
              "      <td>-2.604551e+00</td>\n",
              "      <td>-2.256568e+01</td>\n",
              "      <td>-1.543008e+01</td>\n",
              "      <td>0.000000</td>\n",
              "      <td>0.000000</td>\n",
              "    </tr>\n",
              "    <tr>\n",
              "      <th>25%</th>\n",
              "      <td>54201.500000</td>\n",
              "      <td>-9.203734e-01</td>\n",
              "      <td>-5.985499e-01</td>\n",
              "      <td>-8.903648e-01</td>\n",
              "      <td>-8.486401e-01</td>\n",
              "      <td>-6.915971e-01</td>\n",
              "      <td>-7.682956e-01</td>\n",
              "      <td>-5.540759e-01</td>\n",
              "      <td>-2.086297e-01</td>\n",
              "      <td>-6.430976e-01</td>\n",
              "      <td>...</td>\n",
              "      <td>-2.283949e-01</td>\n",
              "      <td>-5.423504e-01</td>\n",
              "      <td>-1.618463e-01</td>\n",
              "      <td>-3.545861e-01</td>\n",
              "      <td>-3.171451e-01</td>\n",
              "      <td>-3.269839e-01</td>\n",
              "      <td>-7.083953e-02</td>\n",
              "      <td>-5.295979e-02</td>\n",
              "      <td>5.600000</td>\n",
              "      <td>0.000000</td>\n",
              "    </tr>\n",
              "    <tr>\n",
              "      <th>50%</th>\n",
              "      <td>84692.000000</td>\n",
              "      <td>1.810880e-02</td>\n",
              "      <td>6.548556e-02</td>\n",
              "      <td>1.798463e-01</td>\n",
              "      <td>-1.984653e-02</td>\n",
              "      <td>-5.433583e-02</td>\n",
              "      <td>-2.741871e-01</td>\n",
              "      <td>4.010308e-02</td>\n",
              "      <td>2.235804e-02</td>\n",
              "      <td>-5.142873e-02</td>\n",
              "      <td>...</td>\n",
              "      <td>-2.945017e-02</td>\n",
              "      <td>6.781943e-03</td>\n",
              "      <td>-1.119293e-02</td>\n",
              "      <td>4.097606e-02</td>\n",
              "      <td>1.659350e-02</td>\n",
              "      <td>-5.213911e-02</td>\n",
              "      <td>1.342146e-03</td>\n",
              "      <td>1.124383e-02</td>\n",
              "      <td>22.000000</td>\n",
              "      <td>0.000000</td>\n",
              "    </tr>\n",
              "    <tr>\n",
              "      <th>75%</th>\n",
              "      <td>139320.500000</td>\n",
              "      <td>1.315642e+00</td>\n",
              "      <td>8.037239e-01</td>\n",
              "      <td>1.027196e+00</td>\n",
              "      <td>7.433413e-01</td>\n",
              "      <td>6.119264e-01</td>\n",
              "      <td>3.985649e-01</td>\n",
              "      <td>5.704361e-01</td>\n",
              "      <td>3.273459e-01</td>\n",
              "      <td>5.971390e-01</td>\n",
              "      <td>...</td>\n",
              "      <td>1.863772e-01</td>\n",
              "      <td>5.285536e-01</td>\n",
              "      <td>1.476421e-01</td>\n",
              "      <td>4.395266e-01</td>\n",
              "      <td>3.507156e-01</td>\n",
              "      <td>2.409522e-01</td>\n",
              "      <td>9.104512e-02</td>\n",
              "      <td>7.827995e-02</td>\n",
              "      <td>77.165000</td>\n",
              "      <td>0.000000</td>\n",
              "    </tr>\n",
              "    <tr>\n",
              "      <th>max</th>\n",
              "      <td>172792.000000</td>\n",
              "      <td>2.454930e+00</td>\n",
              "      <td>2.205773e+01</td>\n",
              "      <td>9.382558e+00</td>\n",
              "      <td>1.687534e+01</td>\n",
              "      <td>3.480167e+01</td>\n",
              "      <td>7.330163e+01</td>\n",
              "      <td>1.205895e+02</td>\n",
              "      <td>2.000721e+01</td>\n",
              "      <td>1.559499e+01</td>\n",
              "      <td>...</td>\n",
              "      <td>2.720284e+01</td>\n",
              "      <td>1.050309e+01</td>\n",
              "      <td>2.252841e+01</td>\n",
              "      <td>4.584549e+00</td>\n",
              "      <td>7.519589e+00</td>\n",
              "      <td>3.517346e+00</td>\n",
              "      <td>3.161220e+01</td>\n",
              "      <td>3.384781e+01</td>\n",
              "      <td>25691.160000</td>\n",
              "      <td>1.000000</td>\n",
              "    </tr>\n",
              "  </tbody>\n",
              "</table>\n",
              "<p>8 rows × 31 columns</p>\n",
              "</div>\n",
              "      <button class=\"colab-df-convert\" onclick=\"convertToInteractive('df-9ebb1cb8-5ace-4d4f-85d7-3172b98b5746')\"\n",
              "              title=\"Convert this dataframe to an interactive table.\"\n",
              "              style=\"display:none;\">\n",
              "        \n",
              "  <svg xmlns=\"http://www.w3.org/2000/svg\" height=\"24px\"viewBox=\"0 0 24 24\"\n",
              "       width=\"24px\">\n",
              "    <path d=\"M0 0h24v24H0V0z\" fill=\"none\"/>\n",
              "    <path d=\"M18.56 5.44l.94 2.06.94-2.06 2.06-.94-2.06-.94-.94-2.06-.94 2.06-2.06.94zm-11 1L8.5 8.5l.94-2.06 2.06-.94-2.06-.94L8.5 2.5l-.94 2.06-2.06.94zm10 10l.94 2.06.94-2.06 2.06-.94-2.06-.94-.94-2.06-.94 2.06-2.06.94z\"/><path d=\"M17.41 7.96l-1.37-1.37c-.4-.4-.92-.59-1.43-.59-.52 0-1.04.2-1.43.59L10.3 9.45l-7.72 7.72c-.78.78-.78 2.05 0 2.83L4 21.41c.39.39.9.59 1.41.59.51 0 1.02-.2 1.41-.59l7.78-7.78 2.81-2.81c.8-.78.8-2.07 0-2.86zM5.41 20L4 18.59l7.72-7.72 1.47 1.35L5.41 20z\"/>\n",
              "  </svg>\n",
              "      </button>\n",
              "      \n",
              "  <style>\n",
              "    .colab-df-container {\n",
              "      display:flex;\n",
              "      flex-wrap:wrap;\n",
              "      gap: 12px;\n",
              "    }\n",
              "\n",
              "    .colab-df-convert {\n",
              "      background-color: #E8F0FE;\n",
              "      border: none;\n",
              "      border-radius: 50%;\n",
              "      cursor: pointer;\n",
              "      display: none;\n",
              "      fill: #1967D2;\n",
              "      height: 32px;\n",
              "      padding: 0 0 0 0;\n",
              "      width: 32px;\n",
              "    }\n",
              "\n",
              "    .colab-df-convert:hover {\n",
              "      background-color: #E2EBFA;\n",
              "      box-shadow: 0px 1px 2px rgba(60, 64, 67, 0.3), 0px 1px 3px 1px rgba(60, 64, 67, 0.15);\n",
              "      fill: #174EA6;\n",
              "    }\n",
              "\n",
              "    [theme=dark] .colab-df-convert {\n",
              "      background-color: #3B4455;\n",
              "      fill: #D2E3FC;\n",
              "    }\n",
              "\n",
              "    [theme=dark] .colab-df-convert:hover {\n",
              "      background-color: #434B5C;\n",
              "      box-shadow: 0px 1px 3px 1px rgba(0, 0, 0, 0.15);\n",
              "      filter: drop-shadow(0px 1px 2px rgba(0, 0, 0, 0.3));\n",
              "      fill: #FFFFFF;\n",
              "    }\n",
              "  </style>\n",
              "\n",
              "      <script>\n",
              "        const buttonEl =\n",
              "          document.querySelector('#df-9ebb1cb8-5ace-4d4f-85d7-3172b98b5746 button.colab-df-convert');\n",
              "        buttonEl.style.display =\n",
              "          google.colab.kernel.accessAllowed ? 'block' : 'none';\n",
              "\n",
              "        async function convertToInteractive(key) {\n",
              "          const element = document.querySelector('#df-9ebb1cb8-5ace-4d4f-85d7-3172b98b5746');\n",
              "          const dataTable =\n",
              "            await google.colab.kernel.invokeFunction('convertToInteractive',\n",
              "                                                     [key], {});\n",
              "          if (!dataTable) return;\n",
              "\n",
              "          const docLinkHtml = 'Like what you see? Visit the ' +\n",
              "            '<a target=\"_blank\" href=https://colab.research.google.com/notebooks/data_table.ipynb>data table notebook</a>'\n",
              "            + ' to learn more about interactive tables.';\n",
              "          element.innerHTML = '';\n",
              "          dataTable['output_type'] = 'display_data';\n",
              "          await google.colab.output.renderOutput(dataTable, element);\n",
              "          const docLink = document.createElement('div');\n",
              "          docLink.innerHTML = docLinkHtml;\n",
              "          element.appendChild(docLink);\n",
              "        }\n",
              "      </script>\n",
              "    </div>\n",
              "  </div>\n",
              "  "
            ]
          },
          "metadata": {},
          "execution_count": 5
        }
      ],
      "source": [
        "dataset.describe()"
      ]
    },
    {
      "cell_type": "code",
      "execution_count": null,
      "metadata": {
        "colab": {
          "base_uri": "https://localhost:8080/"
        },
        "id": "zM2yq5gTVbGa",
        "outputId": "34ab81b4-cae1-4601-d170-91b5c11b63c9"
      },
      "outputs": [
        {
          "output_type": "stream",
          "name": "stdout",
          "text": [
            "Class\n",
            "0    284315\n",
            "1       492\n",
            "dtype: int64\n"
          ]
        }
      ],
      "source": [
        "#Count total number of classes in Data\n",
        "class_counts = dataset.groupby('Class').size()\n",
        "print(class_counts)"
      ]
    },
    {
      "cell_type": "code",
      "execution_count": null,
      "metadata": {
        "id": "w5FF9WTYE-uJ"
      },
      "outputs": [],
      "source": [
        "# separating the data for analysis\n",
        "legit = dataset[dataset.Class==0]\n",
        "fraud = dataset[dataset.Class==1]"
      ]
    },
    {
      "cell_type": "code",
      "execution_count": null,
      "metadata": {
        "colab": {
          "base_uri": "https://localhost:8080/"
        },
        "id": "8t8tHHeGFi-V",
        "outputId": "86c08dd4-17a8-40f3-f445-07ac9cd76c45"
      },
      "outputs": [
        {
          "output_type": "stream",
          "name": "stdout",
          "text": [
            "(284315, 31)\n",
            "(492, 31)\n"
          ]
        }
      ],
      "source": [
        "print(legit.shape)\n",
        "print(fraud.shape)"
      ]
    },
    {
      "cell_type": "code",
      "source": [
        "# statistical measures of the data\n",
        "legit.Amount.describe()"
      ],
      "metadata": {
        "colab": {
          "base_uri": "https://localhost:8080/"
        },
        "id": "4A88c-Kx3BHU",
        "outputId": "5674e7f7-fcd0-4378-d3f3-2e485c6b15f7"
      },
      "execution_count": null,
      "outputs": [
        {
          "output_type": "execute_result",
          "data": {
            "text/plain": [
              "count    284315.000000\n",
              "mean         88.291022\n",
              "std         250.105092\n",
              "min           0.000000\n",
              "25%           5.650000\n",
              "50%          22.000000\n",
              "75%          77.050000\n",
              "max       25691.160000\n",
              "Name: Amount, dtype: float64"
            ]
          },
          "metadata": {},
          "execution_count": 9
        }
      ]
    },
    {
      "cell_type": "code",
      "source": [
        "fraud.Amount.describe()"
      ],
      "metadata": {
        "id": "hefVJ4Ri3V0b"
      },
      "execution_count": null,
      "outputs": []
    },
    {
      "cell_type": "code",
      "source": [
        "# compare the values for both transactions\n",
        "dataset.groupby('Class').mean()"
      ],
      "metadata": {
        "id": "yDptbSoK3tlr"
      },
      "execution_count": null,
      "outputs": []
    },
    {
      "cell_type": "code",
      "source": [
        "legit_sample = legit.sample(n=492)"
      ],
      "metadata": {
        "id": "1du7x2Nc35ME"
      },
      "execution_count": null,
      "outputs": []
    },
    {
      "cell_type": "code",
      "source": [
        "new_dataset = pd.concat([legit_sample, fraud], axis=0)"
      ],
      "metadata": {
        "id": "kbnBFM714EMw"
      },
      "execution_count": null,
      "outputs": []
    },
    {
      "cell_type": "code",
      "source": [
        "new_dataset"
      ],
      "metadata": {
        "id": "mQB3IxjI4KVj"
      },
      "execution_count": null,
      "outputs": []
    },
    {
      "cell_type": "code",
      "source": [
        "new_dataset.describe()"
      ],
      "metadata": {
        "colab": {
          "base_uri": "https://localhost:8080/",
          "height": 393
        },
        "id": "DpTtueFnSHmu",
        "outputId": "cccac14c-0756-4f00-ab7b-ca6eb04d8868"
      },
      "execution_count": null,
      "outputs": [
        {
          "output_type": "execute_result",
          "data": {
            "text/plain": [
              "                Time          V1          V2          V3          V4  \\\n",
              "count     984.000000  984.000000  984.000000  984.000000  984.000000   \n",
              "mean    87268.201220   -2.273214    1.776462   -3.535973    2.258878   \n",
              "std     46851.642906    5.540451    3.684485    6.207622    3.202668   \n",
              "min       222.000000  -30.552380   -8.402154  -31.103685   -4.729482   \n",
              "25%     48333.000000   -2.744364   -0.223072   -5.084967   -0.027611   \n",
              "50%     78360.000000   -0.665264    0.786369   -1.405652    1.287041   \n",
              "75%    132692.500000    1.118388    2.814266    0.323357    4.235631   \n",
              "max    171122.000000    2.361583   22.057729    3.212677   12.114672   \n",
              "\n",
              "               V5          V6          V7          V8          V9  ...  \\\n",
              "count  984.000000  984.000000  984.000000  984.000000  984.000000  ...   \n",
              "mean    -1.614246   -0.652376   -2.783846    0.311880   -1.235195  ...   \n",
              "std      4.187450    1.787026    5.845531    4.853655    2.357200  ...   \n",
              "min    -22.105532   -6.406267  -43.557242  -41.044261  -13.434066  ...   \n",
              "25%     -1.835182   -1.572363   -3.044451   -0.205668   -2.297633  ...   \n",
              "50%     -0.499829   -0.649913   -0.644578    0.162398   -0.678169  ...   \n",
              "75%      0.412375    0.111023    0.254476    0.867939    0.233594  ...   \n",
              "max     11.095089    6.474115    5.802537   20.007208    5.718008  ...   \n",
              "\n",
              "              V21         V22         V23         V24         V25         V26  \\\n",
              "count  984.000000  984.000000  984.000000  984.000000  984.000000  984.000000   \n",
              "mean     0.358873    0.010087   -0.029840   -0.058852    0.017956    0.019333   \n",
              "std      2.779631    1.170456    1.216055    0.575578    0.677676    0.491657   \n",
              "min    -22.797604   -8.887017  -19.254328   -2.028024   -4.781606   -1.234159   \n",
              "25%     -0.166343   -0.523430   -0.240046   -0.410897   -0.314741   -0.305311   \n",
              "50%      0.146469    0.033940   -0.034907   -0.004826    0.052299   -0.020753   \n",
              "75%      0.652748    0.583915    0.199651    0.374149    0.392689    0.338893   \n",
              "max     27.202839    8.361985    6.622215    1.250645    2.208209    2.745261   \n",
              "\n",
              "              V27         V28       Amount       Class  \n",
              "count  984.000000  984.000000   984.000000  984.000000  \n",
              "mean     0.087965    0.030433   112.791118    0.500000  \n",
              "std      1.003234    0.430102   262.323570    0.500254  \n",
              "min     -7.263482   -2.910813     0.000000    0.000000  \n",
              "25%     -0.064750   -0.056559     1.520000    0.000000  \n",
              "50%      0.047129    0.030233    20.000000    0.500000  \n",
              "75%      0.424868    0.209271    99.990000    1.000000  \n",
              "max      3.052358    1.779364  2602.700000    1.000000  \n",
              "\n",
              "[8 rows x 31 columns]"
            ],
            "text/html": [
              "\n",
              "  <div id=\"df-2ad8de72-c2db-4fc6-a66f-06783a453c21\">\n",
              "    <div class=\"colab-df-container\">\n",
              "      <div>\n",
              "<style scoped>\n",
              "    .dataframe tbody tr th:only-of-type {\n",
              "        vertical-align: middle;\n",
              "    }\n",
              "\n",
              "    .dataframe tbody tr th {\n",
              "        vertical-align: top;\n",
              "    }\n",
              "\n",
              "    .dataframe thead th {\n",
              "        text-align: right;\n",
              "    }\n",
              "</style>\n",
              "<table border=\"1\" class=\"dataframe\">\n",
              "  <thead>\n",
              "    <tr style=\"text-align: right;\">\n",
              "      <th></th>\n",
              "      <th>Time</th>\n",
              "      <th>V1</th>\n",
              "      <th>V2</th>\n",
              "      <th>V3</th>\n",
              "      <th>V4</th>\n",
              "      <th>V5</th>\n",
              "      <th>V6</th>\n",
              "      <th>V7</th>\n",
              "      <th>V8</th>\n",
              "      <th>V9</th>\n",
              "      <th>...</th>\n",
              "      <th>V21</th>\n",
              "      <th>V22</th>\n",
              "      <th>V23</th>\n",
              "      <th>V24</th>\n",
              "      <th>V25</th>\n",
              "      <th>V26</th>\n",
              "      <th>V27</th>\n",
              "      <th>V28</th>\n",
              "      <th>Amount</th>\n",
              "      <th>Class</th>\n",
              "    </tr>\n",
              "  </thead>\n",
              "  <tbody>\n",
              "    <tr>\n",
              "      <th>count</th>\n",
              "      <td>984.000000</td>\n",
              "      <td>984.000000</td>\n",
              "      <td>984.000000</td>\n",
              "      <td>984.000000</td>\n",
              "      <td>984.000000</td>\n",
              "      <td>984.000000</td>\n",
              "      <td>984.000000</td>\n",
              "      <td>984.000000</td>\n",
              "      <td>984.000000</td>\n",
              "      <td>984.000000</td>\n",
              "      <td>...</td>\n",
              "      <td>984.000000</td>\n",
              "      <td>984.000000</td>\n",
              "      <td>984.000000</td>\n",
              "      <td>984.000000</td>\n",
              "      <td>984.000000</td>\n",
              "      <td>984.000000</td>\n",
              "      <td>984.000000</td>\n",
              "      <td>984.000000</td>\n",
              "      <td>984.000000</td>\n",
              "      <td>984.000000</td>\n",
              "    </tr>\n",
              "    <tr>\n",
              "      <th>mean</th>\n",
              "      <td>87268.201220</td>\n",
              "      <td>-2.273214</td>\n",
              "      <td>1.776462</td>\n",
              "      <td>-3.535973</td>\n",
              "      <td>2.258878</td>\n",
              "      <td>-1.614246</td>\n",
              "      <td>-0.652376</td>\n",
              "      <td>-2.783846</td>\n",
              "      <td>0.311880</td>\n",
              "      <td>-1.235195</td>\n",
              "      <td>...</td>\n",
              "      <td>0.358873</td>\n",
              "      <td>0.010087</td>\n",
              "      <td>-0.029840</td>\n",
              "      <td>-0.058852</td>\n",
              "      <td>0.017956</td>\n",
              "      <td>0.019333</td>\n",
              "      <td>0.087965</td>\n",
              "      <td>0.030433</td>\n",
              "      <td>112.791118</td>\n",
              "      <td>0.500000</td>\n",
              "    </tr>\n",
              "    <tr>\n",
              "      <th>std</th>\n",
              "      <td>46851.642906</td>\n",
              "      <td>5.540451</td>\n",
              "      <td>3.684485</td>\n",
              "      <td>6.207622</td>\n",
              "      <td>3.202668</td>\n",
              "      <td>4.187450</td>\n",
              "      <td>1.787026</td>\n",
              "      <td>5.845531</td>\n",
              "      <td>4.853655</td>\n",
              "      <td>2.357200</td>\n",
              "      <td>...</td>\n",
              "      <td>2.779631</td>\n",
              "      <td>1.170456</td>\n",
              "      <td>1.216055</td>\n",
              "      <td>0.575578</td>\n",
              "      <td>0.677676</td>\n",
              "      <td>0.491657</td>\n",
              "      <td>1.003234</td>\n",
              "      <td>0.430102</td>\n",
              "      <td>262.323570</td>\n",
              "      <td>0.500254</td>\n",
              "    </tr>\n",
              "    <tr>\n",
              "      <th>min</th>\n",
              "      <td>222.000000</td>\n",
              "      <td>-30.552380</td>\n",
              "      <td>-8.402154</td>\n",
              "      <td>-31.103685</td>\n",
              "      <td>-4.729482</td>\n",
              "      <td>-22.105532</td>\n",
              "      <td>-6.406267</td>\n",
              "      <td>-43.557242</td>\n",
              "      <td>-41.044261</td>\n",
              "      <td>-13.434066</td>\n",
              "      <td>...</td>\n",
              "      <td>-22.797604</td>\n",
              "      <td>-8.887017</td>\n",
              "      <td>-19.254328</td>\n",
              "      <td>-2.028024</td>\n",
              "      <td>-4.781606</td>\n",
              "      <td>-1.234159</td>\n",
              "      <td>-7.263482</td>\n",
              "      <td>-2.910813</td>\n",
              "      <td>0.000000</td>\n",
              "      <td>0.000000</td>\n",
              "    </tr>\n",
              "    <tr>\n",
              "      <th>25%</th>\n",
              "      <td>48333.000000</td>\n",
              "      <td>-2.744364</td>\n",
              "      <td>-0.223072</td>\n",
              "      <td>-5.084967</td>\n",
              "      <td>-0.027611</td>\n",
              "      <td>-1.835182</td>\n",
              "      <td>-1.572363</td>\n",
              "      <td>-3.044451</td>\n",
              "      <td>-0.205668</td>\n",
              "      <td>-2.297633</td>\n",
              "      <td>...</td>\n",
              "      <td>-0.166343</td>\n",
              "      <td>-0.523430</td>\n",
              "      <td>-0.240046</td>\n",
              "      <td>-0.410897</td>\n",
              "      <td>-0.314741</td>\n",
              "      <td>-0.305311</td>\n",
              "      <td>-0.064750</td>\n",
              "      <td>-0.056559</td>\n",
              "      <td>1.520000</td>\n",
              "      <td>0.000000</td>\n",
              "    </tr>\n",
              "    <tr>\n",
              "      <th>50%</th>\n",
              "      <td>78360.000000</td>\n",
              "      <td>-0.665264</td>\n",
              "      <td>0.786369</td>\n",
              "      <td>-1.405652</td>\n",
              "      <td>1.287041</td>\n",
              "      <td>-0.499829</td>\n",
              "      <td>-0.649913</td>\n",
              "      <td>-0.644578</td>\n",
              "      <td>0.162398</td>\n",
              "      <td>-0.678169</td>\n",
              "      <td>...</td>\n",
              "      <td>0.146469</td>\n",
              "      <td>0.033940</td>\n",
              "      <td>-0.034907</td>\n",
              "      <td>-0.004826</td>\n",
              "      <td>0.052299</td>\n",
              "      <td>-0.020753</td>\n",
              "      <td>0.047129</td>\n",
              "      <td>0.030233</td>\n",
              "      <td>20.000000</td>\n",
              "      <td>0.500000</td>\n",
              "    </tr>\n",
              "    <tr>\n",
              "      <th>75%</th>\n",
              "      <td>132692.500000</td>\n",
              "      <td>1.118388</td>\n",
              "      <td>2.814266</td>\n",
              "      <td>0.323357</td>\n",
              "      <td>4.235631</td>\n",
              "      <td>0.412375</td>\n",
              "      <td>0.111023</td>\n",
              "      <td>0.254476</td>\n",
              "      <td>0.867939</td>\n",
              "      <td>0.233594</td>\n",
              "      <td>...</td>\n",
              "      <td>0.652748</td>\n",
              "      <td>0.583915</td>\n",
              "      <td>0.199651</td>\n",
              "      <td>0.374149</td>\n",
              "      <td>0.392689</td>\n",
              "      <td>0.338893</td>\n",
              "      <td>0.424868</td>\n",
              "      <td>0.209271</td>\n",
              "      <td>99.990000</td>\n",
              "      <td>1.000000</td>\n",
              "    </tr>\n",
              "    <tr>\n",
              "      <th>max</th>\n",
              "      <td>171122.000000</td>\n",
              "      <td>2.361583</td>\n",
              "      <td>22.057729</td>\n",
              "      <td>3.212677</td>\n",
              "      <td>12.114672</td>\n",
              "      <td>11.095089</td>\n",
              "      <td>6.474115</td>\n",
              "      <td>5.802537</td>\n",
              "      <td>20.007208</td>\n",
              "      <td>5.718008</td>\n",
              "      <td>...</td>\n",
              "      <td>27.202839</td>\n",
              "      <td>8.361985</td>\n",
              "      <td>6.622215</td>\n",
              "      <td>1.250645</td>\n",
              "      <td>2.208209</td>\n",
              "      <td>2.745261</td>\n",
              "      <td>3.052358</td>\n",
              "      <td>1.779364</td>\n",
              "      <td>2602.700000</td>\n",
              "      <td>1.000000</td>\n",
              "    </tr>\n",
              "  </tbody>\n",
              "</table>\n",
              "<p>8 rows × 31 columns</p>\n",
              "</div>\n",
              "      <button class=\"colab-df-convert\" onclick=\"convertToInteractive('df-2ad8de72-c2db-4fc6-a66f-06783a453c21')\"\n",
              "              title=\"Convert this dataframe to an interactive table.\"\n",
              "              style=\"display:none;\">\n",
              "        \n",
              "  <svg xmlns=\"http://www.w3.org/2000/svg\" height=\"24px\"viewBox=\"0 0 24 24\"\n",
              "       width=\"24px\">\n",
              "    <path d=\"M0 0h24v24H0V0z\" fill=\"none\"/>\n",
              "    <path d=\"M18.56 5.44l.94 2.06.94-2.06 2.06-.94-2.06-.94-.94-2.06-.94 2.06-2.06.94zm-11 1L8.5 8.5l.94-2.06 2.06-.94-2.06-.94L8.5 2.5l-.94 2.06-2.06.94zm10 10l.94 2.06.94-2.06 2.06-.94-2.06-.94-.94-2.06-.94 2.06-2.06.94z\"/><path d=\"M17.41 7.96l-1.37-1.37c-.4-.4-.92-.59-1.43-.59-.52 0-1.04.2-1.43.59L10.3 9.45l-7.72 7.72c-.78.78-.78 2.05 0 2.83L4 21.41c.39.39.9.59 1.41.59.51 0 1.02-.2 1.41-.59l7.78-7.78 2.81-2.81c.8-.78.8-2.07 0-2.86zM5.41 20L4 18.59l7.72-7.72 1.47 1.35L5.41 20z\"/>\n",
              "  </svg>\n",
              "      </button>\n",
              "      \n",
              "  <style>\n",
              "    .colab-df-container {\n",
              "      display:flex;\n",
              "      flex-wrap:wrap;\n",
              "      gap: 12px;\n",
              "    }\n",
              "\n",
              "    .colab-df-convert {\n",
              "      background-color: #E8F0FE;\n",
              "      border: none;\n",
              "      border-radius: 50%;\n",
              "      cursor: pointer;\n",
              "      display: none;\n",
              "      fill: #1967D2;\n",
              "      height: 32px;\n",
              "      padding: 0 0 0 0;\n",
              "      width: 32px;\n",
              "    }\n",
              "\n",
              "    .colab-df-convert:hover {\n",
              "      background-color: #E2EBFA;\n",
              "      box-shadow: 0px 1px 2px rgba(60, 64, 67, 0.3), 0px 1px 3px 1px rgba(60, 64, 67, 0.15);\n",
              "      fill: #174EA6;\n",
              "    }\n",
              "\n",
              "    [theme=dark] .colab-df-convert {\n",
              "      background-color: #3B4455;\n",
              "      fill: #D2E3FC;\n",
              "    }\n",
              "\n",
              "    [theme=dark] .colab-df-convert:hover {\n",
              "      background-color: #434B5C;\n",
              "      box-shadow: 0px 1px 3px 1px rgba(0, 0, 0, 0.15);\n",
              "      filter: drop-shadow(0px 1px 2px rgba(0, 0, 0, 0.3));\n",
              "      fill: #FFFFFF;\n",
              "    }\n",
              "  </style>\n",
              "\n",
              "      <script>\n",
              "        const buttonEl =\n",
              "          document.querySelector('#df-2ad8de72-c2db-4fc6-a66f-06783a453c21 button.colab-df-convert');\n",
              "        buttonEl.style.display =\n",
              "          google.colab.kernel.accessAllowed ? 'block' : 'none';\n",
              "\n",
              "        async function convertToInteractive(key) {\n",
              "          const element = document.querySelector('#df-2ad8de72-c2db-4fc6-a66f-06783a453c21');\n",
              "          const dataTable =\n",
              "            await google.colab.kernel.invokeFunction('convertToInteractive',\n",
              "                                                     [key], {});\n",
              "          if (!dataTable) return;\n",
              "\n",
              "          const docLinkHtml = 'Like what you see? Visit the ' +\n",
              "            '<a target=\"_blank\" href=https://colab.research.google.com/notebooks/data_table.ipynb>data table notebook</a>'\n",
              "            + ' to learn more about interactive tables.';\n",
              "          element.innerHTML = '';\n",
              "          dataTable['output_type'] = 'display_data';\n",
              "          await google.colab.output.renderOutput(dataTable, element);\n",
              "          const docLink = document.createElement('div');\n",
              "          docLink.innerHTML = docLinkHtml;\n",
              "          element.appendChild(docLink);\n",
              "        }\n",
              "      </script>\n",
              "    </div>\n",
              "  </div>\n",
              "  "
            ]
          },
          "metadata": {},
          "execution_count": 15
        }
      ]
    },
    {
      "cell_type": "code",
      "execution_count": null,
      "metadata": {
        "id": "Kqjssm99WxVH"
      },
      "outputs": [],
      "source": [
        "X  = new_dataset.iloc[:,1:30]\n",
        "y = new_dataset.iloc[:, 30:31]"
      ]
    },
    {
      "cell_type": "code",
      "execution_count": null,
      "metadata": {
        "id": "WtewLl_5DYD5"
      },
      "outputs": [],
      "source": [
        "print(X)"
      ]
    },
    {
      "cell_type": "code",
      "execution_count": null,
      "metadata": {
        "id": "iKVFS1uoDec0"
      },
      "outputs": [],
      "source": [
        "print(y)"
      ]
    },
    {
      "cell_type": "code",
      "execution_count": null,
      "metadata": {
        "id": "m_KxtUpuEewC"
      },
      "outputs": [],
      "source": [
        "from sklearn.model_selection import train_test_split\n",
        "X_train, X_test, y_train, y_test = train_test_split(X, y, test_size = 0.2, random_state = 2)"
      ]
    },
    {
      "cell_type": "code",
      "execution_count": null,
      "metadata": {
        "id": "BdqDyuGYGkkR"
      },
      "outputs": [],
      "source": [
        "print(X_train)"
      ]
    },
    {
      "cell_type": "code",
      "execution_count": null,
      "metadata": {
        "id": "Snl9bUJ4Gn-h"
      },
      "outputs": [],
      "source": [
        "print(X_test)"
      ]
    },
    {
      "cell_type": "code",
      "execution_count": null,
      "metadata": {
        "colab": {
          "base_uri": "https://localhost:8080/"
        },
        "id": "XXZZ1wmJG-aT",
        "outputId": "18375389-4663-434b-f3ae-fd4bcd475047"
      },
      "outputs": [
        {
          "output_type": "stream",
          "name": "stdout",
          "text": [
            "        Class\n",
            "42007       1\n",
            "149355      0\n",
            "144752      0\n",
            "57040       0\n",
            "143744      0\n",
            "...       ...\n",
            "10568       1\n",
            "27749       1\n",
            "623         1\n",
            "9252        1\n",
            "225919      0\n",
            "\n",
            "[787 rows x 1 columns]\n"
          ]
        }
      ],
      "source": [
        "print(y_train)"
      ]
    },
    {
      "cell_type": "code",
      "execution_count": null,
      "metadata": {
        "colab": {
          "base_uri": "https://localhost:8080/"
        },
        "id": "cbwHZbX5HG90",
        "outputId": "f99f4099-541e-49c0-989e-2ab31bb964fb"
      },
      "outputs": [
        {
          "output_type": "stream",
          "name": "stdout",
          "text": [
            "        Class\n",
            "188237      0\n",
            "11343       1\n",
            "150715      1\n",
            "223928      0\n",
            "58761       1\n",
            "...       ...\n",
            "251881      1\n",
            "209002      0\n",
            "15539       1\n",
            "50211       1\n",
            "88298       0\n",
            "\n",
            "[197 rows x 1 columns]\n"
          ]
        }
      ],
      "source": [
        "print(y_test)"
      ]
    },
    {
      "cell_type": "code",
      "execution_count": null,
      "metadata": {
        "colab": {
          "base_uri": "https://localhost:8080/"
        },
        "id": "qVtyhwpDHOTt",
        "outputId": "1f7c63a7-32f1-4b31-8216-2233c173f11e"
      },
      "outputs": [
        {
          "output_type": "stream",
          "name": "stdout",
          "text": [
            "-7.938851054586405e-18\n",
            "1.0\n"
          ]
        }
      ],
      "source": [
        "from sklearn.preprocessing import StandardScaler\n",
        "sc = StandardScaler()\n",
        "X_train = sc.fit_transform(X_train)\n",
        "X_test = sc.transform (X_test)\n",
        "print(np.mean(X_train))\n",
        "print(np.std(X_train))"
      ]
    },
    {
      "cell_type": "markdown",
      "metadata": {
        "id": "GPYiUs-xIanc"
      },
      "source": [
        "# Logistic Regression"
      ]
    },
    {
      "cell_type": "code",
      "execution_count": null,
      "metadata": {
        "id": "R0l3iItyISUY"
      },
      "outputs": [],
      "source": [
        "from sklearn.linear_model import LogisticRegression\n",
        "log_reg = LogisticRegression()\n",
        "log_reg.fit(X_train, y_train.values.ravel())\n",
        "y_pred0 = log_reg.predict(X_test)"
      ]
    },
    {
      "cell_type": "code",
      "execution_count": null,
      "metadata": {
        "colab": {
          "base_uri": "https://localhost:8080/"
        },
        "id": "-sbrkqcYIh8O",
        "outputId": "cf8d60bf-38cc-496f-907d-f60479de22fe"
      },
      "outputs": [
        {
          "output_type": "stream",
          "name": "stdout",
          "text": [
            "Confusion matrix: \n",
            "[[90  5]\n",
            " [ 9 93]]\n"
          ]
        }
      ],
      "source": [
        "from sklearn.metrics import confusion_matrix\n",
        "cm = confusion_matrix(y_test, y_pred0)\n",
        "print('Confusion matrix: ')\n",
        "print(cm)"
      ]
    },
    {
      "cell_type": "code",
      "execution_count": null,
      "metadata": {
        "colab": {
          "base_uri": "https://localhost:8080/"
        },
        "id": "HH6av55wJJxd",
        "outputId": "fc2df1de-c945-4b32-9025-f3e325f0a1ed"
      },
      "outputs": [
        {
          "output_type": "stream",
          "name": "stdout",
          "text": [
            "Accuracy: 92.893\n",
            "Precision: 94.898\n",
            "Recall: 91.176\n",
            "F-Measure: 93.000\n"
          ]
        }
      ],
      "source": [
        "from sklearn.metrics import accuracy_score\n",
        "print('Accuracy: %.3f' % (accuracy_score(y_test, y_pred0)*100))\n",
        "from sklearn.metrics import precision_score\n",
        "from sklearn.metrics import recall_score\n",
        "from sklearn.metrics import f1_score\n",
        "precision = precision_score(y_test, y_pred0, average='binary')\n",
        "print('Precision: %.3f' % (precision*100))\n",
        "recall = recall_score(y_test, y_pred0, average='binary')\n",
        "print('Recall: %.3f' % (recall*100))\n",
        "score = f1_score(y_test, y_pred0, average='binary')\n",
        "print('F-Measure: %.3f' % (score*100))"
      ]
    },
    {
      "cell_type": "code",
      "execution_count": null,
      "metadata": {
        "colab": {
          "base_uri": "https://localhost:8080/"
        },
        "id": "36Q0pK40Jfsp",
        "outputId": "02d128bb-3af0-4818-d771-d0b84a82fd65"
      },
      "outputs": [
        {
          "output_type": "stream",
          "name": "stdout",
          "text": [
            "0.9289340101522843\n"
          ]
        }
      ],
      "source": [
        "score = log_reg.score(X_test, y_test)\n",
        "print(score)"
      ]
    },
    {
      "cell_type": "code",
      "execution_count": null,
      "metadata": {
        "colab": {
          "base_uri": "https://localhost:8080/"
        },
        "id": "pscHswgxJn4h",
        "outputId": "bf06243b-7004-4313-a01b-30fc55d1a218"
      },
      "outputs": [
        {
          "output_type": "stream",
          "name": "stdout",
          "text": [
            "Class = [1]\n",
            "It is a Fraud\n"
          ]
        },
        {
          "output_type": "stream",
          "name": "stderr",
          "text": [
            "/usr/local/lib/python3.7/dist-packages/sklearn/base.py:451: UserWarning: X does not have valid feature names, but StandardScaler was fitted with feature names\n",
            "  \"X does not have valid feature names, but\"\n"
          ]
        }
      ],
      "source": [
        "V1 = -2.3122265423263 #@param {type:\"number\"}\n",
        "\n",
        "V2 = 1.95199201064158 #@param {type:\"number\"}\n",
        "\n",
        "V3 = -1.60985073229769 #@param {type:\"number\"}\n",
        "\n",
        "V4 = 3.9979055875468 #@param {type:\"number\"}\n",
        "\n",
        "V5 = -0.522187864667764 #@param {type:\"number\"}\n",
        "\n",
        "V6 = -1.42654531920595 #@param {type:\"number\"}\n",
        "\n",
        "V7 = -2.53738730624579 #@param {type:\"number\"}\n",
        "\n",
        "V8 = 1.39165724829804 #@param {type:\"number\"}\n",
        "\n",
        "V9 = -2.77008927719433 #@param {type:\"number\"}\n",
        "\n",
        "V10 = -2.77227214465915 #@param {type:\"number\"}\n",
        "\n",
        "V11 = 3.20203320709635 #@param {type:\"number\"}\n",
        "\n",
        "V12 = -2.89990738849473 #@param {type:\"number\"}\n",
        "\n",
        "V13 = -0.595221881324605 #@param {type:\"number\"}\n",
        "\n",
        "V14 = -4.28925378244217 #@param {type:\"number\"}\n",
        "\n",
        "V15 = 0.389724120274487 #@param {type:\"number\"}\n",
        "\n",
        "V16 = -1.14074717980657 #@param {type:\"number\"}\n",
        "\n",
        "V17 = -2.83005567450437 #@param {type:\"number\"}\n",
        "\n",
        "V18 = -0.0168224681808257 #@param {type:\"number\"}\n",
        "\n",
        "V19 = 0.416955705037907 #@param {type:\"number\"}\n",
        "\n",
        "V20 = 0.126910559061474 #@param {type:\"number\"}\n",
        "\n",
        "V21 = 0.517232370861764 #@param {type:\"number\"}\n",
        "\n",
        "V22 = -0.0350493686052974 #@param {type:\"number\"}\n",
        "\n",
        "V23 = -0.465211076182388 #@param {type:\"number\"}\n",
        "\n",
        "V24 = 0.320198198514526 #@param {type:\"number\"}\n",
        "\n",
        "V25 = 0.0445191674731724 #@param {type:\"number\"}\n",
        "\n",
        "V26 = 0.177839798284401 #@param {type:\"number\"}\n",
        "\n",
        "V27 = 0.261145002567677 #@param {type:\"number\"}\n",
        "\n",
        "V28 = -0.143275874698919 #@param {type:\"number\"}\n",
        "\n",
        "Amount = 0 #@param {type:\"number\"}\n",
        "\n",
        "output=log_reg.predict(sc.transform([[V1,V2,V3,V4,V5,V6,V7,V8,V9,V10,V11,V12,V13,V14,V15,V16,V17,V18,V19,V20,V21,V22,V23,V24,V25,V26,V27,V28,Amount]]))\n",
        "\n",
        "print(\"Class =\", output)\n",
        "\n",
        "if output==[1]:\n",
        "  print('It is a Fraud')\n",
        "else:\n",
        "  print('It is not Fraud')"
      ]
    },
    {
      "cell_type": "code",
      "source": [
        "from google.colab import drive\n",
        "drive.mount('/content/drive')"
      ],
      "metadata": {
        "colab": {
          "base_uri": "https://localhost:8080/"
        },
        "id": "DDfFmjgk5iL6",
        "outputId": "6743be03-53e7-4e2a-8fbc-4af81b1cc362"
      },
      "execution_count": null,
      "outputs": [
        {
          "output_type": "stream",
          "name": "stdout",
          "text": [
            "Mounted at /content/drive\n"
          ]
        }
      ]
    },
    {
      "cell_type": "code",
      "execution_count": null,
      "metadata": {
        "id": "petDnZUVvFim",
        "colab": {
          "base_uri": "https://localhost:8080/"
        },
        "outputId": "ca6f1394-d2ca-41b6-fb53-a8a943d93a2a"
      },
      "outputs": [
        {
          "output_type": "stream",
          "name": "stdout",
          "text": [
            "[INFO] Saving model...\n"
          ]
        }
      ],
      "source": [
        "import pickle \n",
        "print(\"[INFO] Saving model...\")\n",
        "saved_model0=pickle.dump(log_reg,open('/content/drive/My Drive/Colab Notebooks/Logistic_Major.pkl', 'wb'))"
      ]
    },
    {
      "cell_type": "code",
      "source": [
        "model0 = pickle.load(open('/content/drive/My Drive/Colab Notebooks/Logistic_Major.pkl','rb'))\n",
        "model0.predict(X_test)"
      ],
      "metadata": {
        "colab": {
          "base_uri": "https://localhost:8080/"
        },
        "id": "ahtSnSAN5fJq",
        "outputId": "84975920-5a46-4d98-9f65-ee0399013ad8"
      },
      "execution_count": null,
      "outputs": [
        {
          "output_type": "execute_result",
          "data": {
            "text/plain": [
              "array([0, 1, 1, 0, 0, 1, 0, 0, 0, 1, 0, 1, 1, 1, 1, 1, 1, 1, 0, 1, 1, 0,\n",
              "       0, 0, 1, 0, 0, 0, 0, 0, 1, 1, 0, 1, 0, 0, 1, 0, 0, 0, 0, 1, 0, 0,\n",
              "       0, 1, 0, 0, 0, 0, 0, 0, 1, 1, 1, 0, 0, 0, 0, 1, 1, 1, 0, 1, 1, 1,\n",
              "       1, 1, 1, 1, 0, 1, 1, 0, 1, 0, 0, 0, 1, 1, 1, 0, 0, 0, 1, 1, 0, 0,\n",
              "       1, 0, 1, 1, 0, 0, 1, 1, 0, 0, 1, 1, 0, 1, 1, 0, 1, 1, 0, 0, 0, 0,\n",
              "       0, 1, 1, 0, 0, 1, 0, 1, 0, 1, 0, 1, 1, 1, 1, 0, 1, 1, 0, 1, 0, 0,\n",
              "       0, 0, 1, 1, 1, 1, 1, 1, 1, 0, 1, 1, 0, 1, 0, 0, 1, 0, 0, 1, 1, 0,\n",
              "       1, 1, 0, 0, 0, 1, 1, 0, 0, 1, 1, 1, 1, 0, 1, 1, 0, 0, 0, 0, 0, 0,\n",
              "       1, 1, 0, 1, 0, 0, 0, 1, 1, 0, 1, 0, 1, 0, 0, 1, 1, 0, 1, 1, 0])"
            ]
          },
          "metadata": {},
          "execution_count": 32
        }
      ]
    },
    {
      "cell_type": "markdown",
      "source": [
        "# KNN Algorithm\n"
      ],
      "metadata": {
        "id": "EM35vwWb6U5g"
      }
    },
    {
      "cell_type": "code",
      "source": [
        "from sklearn.preprocessing import MinMaxScaler\n",
        "sc = MinMaxScaler()\n",
        "X_train = sc.fit_transform(X_train)\n",
        "X_test = sc.transform(X_test)"
      ],
      "metadata": {
        "id": "ba36zo_95_5g"
      },
      "execution_count": null,
      "outputs": []
    },
    {
      "cell_type": "code",
      "source": [
        "from sklearn.neighbors import KNeighborsClassifier\n",
        "classifier =  KNeighborsClassifier(n_neighbors = 15, metric = 'minkowski', p = 2)\n",
        "classifier.fit(X_train, y_train)"
      ],
      "metadata": {
        "colab": {
          "base_uri": "https://localhost:8080/"
        },
        "id": "VX3gGFZB6hgW",
        "outputId": "f2d5aedc-8ab2-49f4-cc41-59f5d9b83357"
      },
      "execution_count": null,
      "outputs": [
        {
          "output_type": "stream",
          "name": "stderr",
          "text": [
            "/usr/local/lib/python3.7/dist-packages/sklearn/neighbors/_classification.py:198: DataConversionWarning: A column-vector y was passed when a 1d array was expected. Please change the shape of y to (n_samples,), for example using ravel().\n",
            "  return self._fit(X, y)\n"
          ]
        },
        {
          "output_type": "execute_result",
          "data": {
            "text/plain": [
              "KNeighborsClassifier(n_neighbors=15)"
            ]
          },
          "metadata": {},
          "execution_count": 34
        }
      ]
    },
    {
      "cell_type": "code",
      "source": [
        "y_pred1 = classifier.predict(X_test)\n",
        "y_pred1"
      ],
      "metadata": {
        "colab": {
          "base_uri": "https://localhost:8080/"
        },
        "id": "5e_AOIv56k7_",
        "outputId": "8c87376b-6ff2-4b40-ed38-a2882477efb8"
      },
      "execution_count": null,
      "outputs": [
        {
          "output_type": "execute_result",
          "data": {
            "text/plain": [
              "array([0, 1, 1, 0, 0, 1, 0, 0, 0, 1, 0, 1, 1, 1, 1, 1, 0, 1, 0, 1, 1, 0,\n",
              "       0, 0, 1, 1, 0, 0, 0, 0, 1, 1, 0, 1, 0, 0, 1, 0, 0, 0, 0, 1, 0, 0,\n",
              "       0, 1, 0, 0, 0, 0, 0, 0, 1, 1, 1, 0, 0, 0, 0, 1, 1, 1, 0, 1, 1, 1,\n",
              "       1, 1, 1, 1, 0, 1, 1, 0, 1, 0, 0, 0, 1, 1, 1, 0, 0, 0, 1, 1, 0, 0,\n",
              "       1, 0, 1, 1, 0, 0, 1, 1, 0, 0, 1, 1, 0, 1, 1, 0, 1, 1, 0, 0, 0, 0,\n",
              "       0, 1, 1, 0, 0, 1, 0, 1, 0, 0, 0, 1, 1, 1, 1, 0, 1, 1, 0, 1, 0, 0,\n",
              "       0, 0, 1, 1, 1, 1, 0, 1, 1, 0, 1, 1, 0, 1, 0, 0, 1, 0, 0, 1, 1, 0,\n",
              "       1, 1, 0, 0, 0, 1, 1, 0, 0, 1, 1, 0, 1, 0, 1, 1, 0, 0, 0, 0, 0, 0,\n",
              "       1, 0, 0, 0, 0, 0, 0, 1, 1, 0, 1, 0, 1, 0, 0, 1, 1, 0, 1, 1, 0])"
            ]
          },
          "metadata": {},
          "execution_count": 35
        }
      ]
    },
    {
      "cell_type": "code",
      "source": [
        "from sklearn.metrics import confusion_matrix\n",
        "cm = confusion_matrix(y_test, y_pred1)\n",
        "print('Confusion matrix: ')\n",
        "print(cm)"
      ],
      "metadata": {
        "colab": {
          "base_uri": "https://localhost:8080/"
        },
        "id": "ABODYo_t7Ncz",
        "outputId": "a20729ee-aead-47be-bf7c-b0ebfd1d124d"
      },
      "execution_count": null,
      "outputs": [
        {
          "output_type": "stream",
          "name": "stdout",
          "text": [
            "Confusion matrix: \n",
            "[[93  2]\n",
            " [11 91]]\n"
          ]
        }
      ]
    },
    {
      "cell_type": "code",
      "source": [
        "from sklearn.metrics import accuracy_score\n",
        "print('Accuracy: %.2f' % (accuracy_score(y_test, y_pred1)*100))\n",
        "from sklearn.metrics import precision_score\n",
        "from sklearn.metrics import recall_score\n",
        "from sklearn.metrics import f1_score\n",
        "precision = precision_score(y_test, y_pred1, average='binary')\n",
        "print('Precision: %.2f' % (precision*100))\n",
        "recall = recall_score(y_test, y_pred1, average='binary')\n",
        "print('Recall: %.3f' % (recall*100))\n",
        "score = f1_score(y_test, y_pred1, average='binary')\n",
        "print('F-Measure: %.3f' % (score*100))"
      ],
      "metadata": {
        "colab": {
          "base_uri": "https://localhost:8080/"
        },
        "id": "zcw9ltyz7TtU",
        "outputId": "d799825f-757e-4c3a-d9f6-824e48a8dfde"
      },
      "execution_count": null,
      "outputs": [
        {
          "output_type": "stream",
          "name": "stdout",
          "text": [
            "Accuracy: 93.40\n",
            "Precision: 97.85\n",
            "Recall: 89.216\n",
            "F-Measure: 93.333\n"
          ]
        }
      ]
    },
    {
      "cell_type": "code",
      "source": [
        "V1 = -2.3122265423263 #@param {type:\"number\"}\n",
        "\n",
        "V2 = 1.95199201064158 #@param {type:\"number\"}\n",
        "\n",
        "V3 = -1.60985073229769 #@param {type:\"number\"}\n",
        "\n",
        "V4 = 3.9979055875468 #@param {type:\"number\"}\n",
        "\n",
        "V5 = -0.522187864667764 #@param {type:\"number\"}\n",
        "\n",
        "V6 = -1.42654531920595 #@param {type:\"number\"}\n",
        "\n",
        "V7 = -2.53738730624579 #@param {type:\"number\"}\n",
        "\n",
        "V8 = 1.39165724829804 #@param {type:\"number\"}\n",
        "\n",
        "V9 = -2.77008927719433 #@param {type:\"number\"}\n",
        "\n",
        "V10 = -2.77227214465915 #@param {type:\"number\"}\n",
        "\n",
        "V11 = 3.20203320709635 #@param {type:\"number\"}\n",
        "\n",
        "V12 = -2.89990738849473 #@param {type:\"number\"}\n",
        "\n",
        "V13 = -0.595221881324605 #@param {type:\"number\"}\n",
        "\n",
        "V14 = -4.28925378244217 #@param {type:\"number\"}\n",
        "\n",
        "V15 = 0.389724120274487 #@param {type:\"number\"}\n",
        "\n",
        "V16 = -1.14074717980657 #@param {type:\"number\"}\n",
        "\n",
        "V17 = -2.83005567450437 #@param {type:\"number\"}\n",
        "\n",
        "V18 = -0.0168224681808257 #@param {type:\"number\"}\n",
        "\n",
        "V19 = 0.416955705037907 #@param {type:\"number\"}\n",
        "\n",
        "V20 = 0.126910559061474 #@param {type:\"number\"}\n",
        "\n",
        "V21 = 0.517232370861764 #@param {type:\"number\"}\n",
        "\n",
        "V22 = -0.0350493686052974 #@param {type:\"number\"}\n",
        "\n",
        "V23 = -0.465211076182388 #@param {type:\"number\"}\n",
        "\n",
        "V24 = 0.320198198514526 #@param {type:\"number\"}\n",
        "\n",
        "V25 = 0.0445191674731724 #@param {type:\"number\"}\n",
        "\n",
        "V26 = 0.177839798284401 #@param {type:\"number\"}\n",
        "\n",
        "V27 = 0.261145002567677 #@param {type:\"number\"}\n",
        "\n",
        "V28 = -0.143275874698919 #@param {type:\"number\"}\n",
        "\n",
        "Amount = 0 #@param {type:\"number\"}\n",
        "\n",
        "output1=classifier.predict(sc.transform([[V1,V2,V3,V4,V5,V6,V7,V8,V9,V10,V11,V12,V13,V14,V15,V16,V17,V18,V19,V20,V21,V22,V23,V24,V25,V26,V27,V28,Amount]]))\n",
        "\n",
        "print(\"Class =\", output1)\n",
        "\n",
        "if output1==[1]:\n",
        "  print( 'It is a Fraud')\n",
        "else:\n",
        "  print('It is not Fraud')"
      ],
      "metadata": {
        "colab": {
          "base_uri": "https://localhost:8080/"
        },
        "id": "ywpUW4uz7aIT",
        "outputId": "aeff31ee-23bb-4ef3-bd3c-6d3407ebe5c6"
      },
      "execution_count": null,
      "outputs": [
        {
          "output_type": "stream",
          "name": "stdout",
          "text": [
            "Class = [1]\n",
            "It is a Fraud\n"
          ]
        }
      ]
    },
    {
      "cell_type": "code",
      "source": [
        "import pickle \n",
        "print(\"[INFO] Saving model...\")\n",
        "saved_model1=pickle.dump(classifier,open('/content/drive/My Drive/Colab Notebooks/KNN_Major.pkl', 'wb'))"
      ],
      "metadata": {
        "colab": {
          "base_uri": "https://localhost:8080/"
        },
        "id": "wgIAFgUZ8ihH",
        "outputId": "dabdef6b-fd5f-42f5-c378-d134cfc8559f"
      },
      "execution_count": null,
      "outputs": [
        {
          "output_type": "stream",
          "name": "stdout",
          "text": [
            "[INFO] Saving model...\n"
          ]
        }
      ]
    },
    {
      "cell_type": "code",
      "source": [
        "model1 = pickle.load(open('/content/drive/My Drive/Colab Notebooks/KNN_Major.pkl','rb'))\n",
        "model1.predict(X_test)"
      ],
      "metadata": {
        "colab": {
          "base_uri": "https://localhost:8080/"
        },
        "id": "lEYT9fbC87Mp",
        "outputId": "41c541dc-3c14-4eb4-8555-b342ad778685"
      },
      "execution_count": null,
      "outputs": [
        {
          "output_type": "execute_result",
          "data": {
            "text/plain": [
              "array([0, 1, 1, 0, 0, 1, 0, 0, 0, 1, 0, 1, 1, 1, 1, 1, 0, 1, 0, 1, 1, 0,\n",
              "       0, 0, 1, 1, 0, 0, 0, 0, 1, 1, 0, 1, 0, 0, 1, 0, 0, 0, 0, 1, 0, 0,\n",
              "       0, 1, 0, 0, 0, 0, 0, 0, 1, 1, 1, 0, 0, 0, 0, 1, 1, 1, 0, 1, 1, 1,\n",
              "       1, 1, 1, 1, 0, 1, 1, 0, 1, 0, 0, 0, 1, 1, 1, 0, 0, 0, 1, 1, 0, 0,\n",
              "       1, 0, 1, 1, 0, 0, 1, 1, 0, 0, 1, 1, 0, 1, 1, 0, 1, 1, 0, 0, 0, 0,\n",
              "       0, 1, 1, 0, 0, 1, 0, 1, 0, 0, 0, 1, 1, 1, 1, 0, 1, 1, 0, 1, 0, 0,\n",
              "       0, 0, 1, 1, 1, 1, 0, 1, 1, 0, 1, 1, 0, 1, 0, 0, 1, 0, 0, 1, 1, 0,\n",
              "       1, 1, 0, 0, 0, 1, 1, 0, 0, 1, 1, 0, 1, 0, 1, 1, 0, 0, 0, 0, 0, 0,\n",
              "       1, 0, 0, 0, 0, 0, 0, 1, 1, 0, 1, 0, 1, 0, 0, 1, 1, 0, 1, 1, 0])"
            ]
          },
          "metadata": {},
          "execution_count": 40
        }
      ]
    },
    {
      "cell_type": "markdown",
      "source": [
        "# Decision Tree"
      ],
      "metadata": {
        "id": "RSSAyALW9klk"
      }
    },
    {
      "cell_type": "code",
      "source": [
        "from sklearn.tree import DecisionTreeClassifier\n",
        "classifier1 = DecisionTreeClassifier(criterion = 'entropy', random_state = 5)\n",
        "classifier1.fit(X_train, y_train)"
      ],
      "metadata": {
        "colab": {
          "base_uri": "https://localhost:8080/"
        },
        "id": "UuWotKDu9KIJ",
        "outputId": "e0569d23-7c70-44b4-8266-5d3e1feb1194"
      },
      "execution_count": null,
      "outputs": [
        {
          "output_type": "execute_result",
          "data": {
            "text/plain": [
              "DecisionTreeClassifier(criterion='entropy', random_state=5)"
            ]
          },
          "metadata": {},
          "execution_count": 41
        }
      ]
    },
    {
      "cell_type": "code",
      "source": [
        "y_pred2 = classifier1.predict(X_test)\n",
        "y_pred2"
      ],
      "metadata": {
        "colab": {
          "base_uri": "https://localhost:8080/"
        },
        "id": "_5Mn3ywX92Yn",
        "outputId": "5853566a-bf9d-4a14-ba13-a82bc4f377f4"
      },
      "execution_count": null,
      "outputs": [
        {
          "output_type": "execute_result",
          "data": {
            "text/plain": [
              "array([0, 1, 1, 0, 0, 1, 0, 0, 0, 1, 0, 1, 1, 1, 1, 1, 0, 1, 0, 1, 1, 0,\n",
              "       0, 1, 1, 1, 0, 0, 0, 0, 1, 1, 0, 1, 0, 0, 1, 0, 0, 0, 1, 1, 1, 0,\n",
              "       0, 1, 0, 0, 0, 0, 0, 0, 1, 1, 1, 0, 0, 0, 0, 1, 1, 1, 0, 1, 1, 1,\n",
              "       1, 1, 1, 1, 1, 1, 1, 1, 1, 0, 1, 0, 1, 1, 1, 1, 0, 0, 1, 1, 0, 0,\n",
              "       1, 1, 1, 1, 0, 0, 1, 1, 0, 0, 1, 0, 0, 1, 1, 0, 1, 1, 0, 0, 1, 0,\n",
              "       0, 1, 1, 1, 1, 1, 0, 1, 0, 1, 0, 1, 1, 1, 1, 0, 1, 1, 1, 1, 0, 0,\n",
              "       0, 1, 1, 1, 1, 1, 1, 1, 1, 0, 1, 1, 1, 1, 0, 0, 1, 0, 0, 1, 1, 0,\n",
              "       1, 1, 0, 0, 0, 1, 1, 0, 0, 1, 1, 0, 1, 0, 1, 1, 0, 0, 0, 0, 0, 0,\n",
              "       1, 1, 0, 0, 0, 1, 0, 1, 1, 0, 1, 0, 1, 0, 0, 1, 1, 0, 1, 1, 0])"
            ]
          },
          "metadata": {},
          "execution_count": 42
        }
      ]
    },
    {
      "cell_type": "code",
      "source": [
        "from sklearn.metrics import confusion_matrix\n",
        "cm = confusion_matrix(y_test, y_pred2)\n",
        "print('Confusion matrix: ')\n",
        "print(cm)"
      ],
      "metadata": {
        "colab": {
          "base_uri": "https://localhost:8080/"
        },
        "id": "NcApf6pn95e_",
        "outputId": "1b29ee2b-0c1a-40c8-ca0c-3b900522b58b"
      },
      "execution_count": null,
      "outputs": [
        {
          "output_type": "stream",
          "name": "stdout",
          "text": [
            "Confusion matrix: \n",
            "[[79 16]\n",
            " [ 8 94]]\n"
          ]
        }
      ]
    },
    {
      "cell_type": "code",
      "source": [
        "from sklearn.metrics import accuracy_score\n",
        "print('Accuracy: %.2f' % (accuracy_score(y_test, y_pred2)*100))\n",
        "from sklearn.metrics import precision_score\n",
        "from sklearn.metrics import recall_score\n",
        "from sklearn.metrics import f1_score\n",
        "precision = precision_score(y_test, y_pred2, average='binary')\n",
        "print('Precision: %.2f' % (precision*100))\n",
        "recall = recall_score(y_test, y_pred2, average='binary')\n",
        "print('Recall: %.3f' % (recall*100))\n",
        "score = f1_score(y_test, y_pred2, average='binary')\n",
        "print('F-Measure: %.3f' % (score*100))"
      ],
      "metadata": {
        "colab": {
          "base_uri": "https://localhost:8080/"
        },
        "id": "qKd6-Z7t_fjW",
        "outputId": "83a733ec-19a6-4e8b-959a-8284aa196165"
      },
      "execution_count": null,
      "outputs": [
        {
          "output_type": "stream",
          "name": "stdout",
          "text": [
            "Accuracy: 87.82\n",
            "Precision: 85.45\n",
            "Recall: 92.157\n",
            "F-Measure: 88.679\n"
          ]
        }
      ]
    },
    {
      "cell_type": "code",
      "source": [
        "V1 = -2.3122265423263 #@param {type:\"number\"}\n",
        "\n",
        "V2 = 1.95199201064158 #@param {type:\"number\"}\n",
        "\n",
        "V3 = -1.60985073229769 #@param {type:\"number\"}\n",
        "\n",
        "V4 = 3.9979055875468 #@param {type:\"number\"}\n",
        "\n",
        "V5 = -0.522187864667764 #@param {type:\"number\"}\n",
        "\n",
        "V6 = -1.42654531920595 #@param {type:\"number\"}\n",
        "\n",
        "V7 = -2.53738730624579 #@param {type:\"number\"}\n",
        "\n",
        "V8 = 1.39165724829804 #@param {type:\"number\"}\n",
        "\n",
        "V9 = -2.77008927719433 #@param {type:\"number\"}\n",
        "\n",
        "V10 = -2.77227214465915 #@param {type:\"number\"}\n",
        "\n",
        "V11 = 3.20203320709635 #@param {type:\"number\"}\n",
        "\n",
        "V12 = -2.89990738849473 #@param {type:\"number\"}\n",
        "\n",
        "V13 = -0.595221881324605 #@param {type:\"number\"}\n",
        "\n",
        "V14 = -4.28925378244217 #@param {type:\"number\"}\n",
        "\n",
        "V15 = 0.389724120274487 #@param {type:\"number\"}\n",
        "\n",
        "V16 = -1.14074717980657 #@param {type:\"number\"}\n",
        "\n",
        "V17 = -2.83005567450437 #@param {type:\"number\"}\n",
        "\n",
        "V18 = -0.0168224681808257 #@param {type:\"number\"}\n",
        "\n",
        "V19 = 0.416955705037907 #@param {type:\"number\"}\n",
        "\n",
        "V20 = 0.126910559061474 #@param {type:\"number\"}\n",
        "\n",
        "V21 = 0.517232370861764 #@param {type:\"number\"}\n",
        "\n",
        "V22 = -0.0350493686052974 #@param {type:\"number\"}\n",
        "\n",
        "V23 = -0.465211076182388 #@param {type:\"number\"}\n",
        "\n",
        "V24 = 0.320198198514526 #@param {type:\"number\"}\n",
        "\n",
        "V25 = 0.0445191674731724 #@param {type:\"number\"}\n",
        "\n",
        "V26 = 0.177839798284401 #@param {type:\"number\"}\n",
        "\n",
        "V27 = 0.261145002567677 #@param {type:\"number\"}\n",
        "\n",
        "V28 = -0.143275874698919 #@param {type:\"number\"}\n",
        "\n",
        "Amount = 0 #@param {type:\"number\"}\n",
        "\n",
        "output2 = classifier1.predict(sc.transform([[V1,V2,V3,V4,V5,V6,V7,V8,V9,V10,V11,V12,V13,V14,V15,V16,V17,V18,V19,V20,V21,V22,V23,V24,V25,V26,V27,V28,Amount]]))\n",
        "\n",
        "print(\"Class =\", output2)\n",
        "\n",
        "if output2==[1]:\n",
        "  print( 'It is a Fraud')\n",
        "else:\n",
        "  print('It is not Fraud')\n",
        "\n"
      ],
      "metadata": {
        "colab": {
          "base_uri": "https://localhost:8080/"
        },
        "id": "gUQjUpBB_vnq",
        "outputId": "ad5b6281-5465-48cb-e047-08379755f447"
      },
      "execution_count": null,
      "outputs": [
        {
          "output_type": "stream",
          "name": "stdout",
          "text": [
            "Class = [1]\n",
            "It is a Fraud\n"
          ]
        }
      ]
    },
    {
      "cell_type": "code",
      "source": [
        "import pickle \n",
        "print(\"[INFO] Saving model...\")\n",
        "saved_model2=pickle.dump(classifier1,open('/content/drive/My Drive/Colab Notebooks/Decision-Tree_Major.pkl', 'wb'))"
      ],
      "metadata": {
        "colab": {
          "base_uri": "https://localhost:8080/"
        },
        "id": "qOBjbwlhBHsw",
        "outputId": "1b07a9ce-af4e-4303-ddef-b4ef45c36f3f"
      },
      "execution_count": null,
      "outputs": [
        {
          "output_type": "stream",
          "name": "stdout",
          "text": [
            "[INFO] Saving model...\n"
          ]
        }
      ]
    },
    {
      "cell_type": "code",
      "source": [
        "model2 = pickle.load(open('/content/drive/My Drive/Colab Notebooks/Decision-Tree_Major.pkl','rb'))\n",
        "model2.predict(X_test)"
      ],
      "metadata": {
        "colab": {
          "base_uri": "https://localhost:8080/"
        },
        "id": "JIxv0WbzBy7S",
        "outputId": "6c465336-496e-4646-a988-fc64565df93d"
      },
      "execution_count": null,
      "outputs": [
        {
          "output_type": "execute_result",
          "data": {
            "text/plain": [
              "array([0, 1, 1, 0, 0, 1, 0, 0, 0, 1, 0, 1, 1, 1, 1, 1, 0, 1, 0, 1, 1, 0,\n",
              "       0, 1, 1, 1, 0, 0, 0, 0, 1, 1, 0, 1, 0, 0, 1, 0, 0, 0, 1, 1, 1, 0,\n",
              "       0, 1, 0, 0, 0, 0, 0, 0, 1, 1, 1, 0, 0, 0, 0, 1, 1, 1, 0, 1, 1, 1,\n",
              "       1, 1, 1, 1, 1, 1, 1, 1, 1, 0, 1, 0, 1, 1, 1, 1, 0, 0, 1, 1, 0, 0,\n",
              "       1, 1, 1, 1, 0, 0, 1, 1, 0, 0, 1, 0, 0, 1, 1, 0, 1, 1, 0, 0, 1, 0,\n",
              "       0, 1, 1, 1, 1, 1, 0, 1, 0, 1, 0, 1, 1, 1, 1, 0, 1, 1, 1, 1, 0, 0,\n",
              "       0, 1, 1, 1, 1, 1, 1, 1, 1, 0, 1, 1, 1, 1, 0, 0, 1, 0, 0, 1, 1, 0,\n",
              "       1, 1, 0, 0, 0, 1, 1, 0, 0, 1, 1, 0, 1, 0, 1, 1, 0, 0, 0, 0, 0, 0,\n",
              "       1, 1, 0, 0, 0, 1, 0, 1, 1, 0, 1, 0, 1, 0, 0, 1, 1, 0, 1, 1, 0])"
            ]
          },
          "metadata": {},
          "execution_count": 47
        }
      ]
    },
    {
      "cell_type": "markdown",
      "source": [
        "# Random Forest Alogorithm"
      ],
      "metadata": {
        "id": "2bQC-FaoC73f"
      }
    },
    {
      "cell_type": "code",
      "source": [
        "from sklearn.ensemble import RandomForestClassifier\n",
        "classifier_Random = RandomForestClassifier(n_estimators = 300, criterion = 'entropy', random_state = 5)\n",
        "classifier_Random.fit(X_train, y_train)"
      ],
      "metadata": {
        "colab": {
          "base_uri": "https://localhost:8080/"
        },
        "id": "RM1-sPpqCB1H",
        "outputId": "53f8855d-1308-4317-c247-c49159ebb592"
      },
      "execution_count": null,
      "outputs": [
        {
          "output_type": "stream",
          "name": "stderr",
          "text": [
            "/usr/local/lib/python3.7/dist-packages/ipykernel_launcher.py:3: DataConversionWarning: A column-vector y was passed when a 1d array was expected. Please change the shape of y to (n_samples,), for example using ravel().\n",
            "  This is separate from the ipykernel package so we can avoid doing imports until\n"
          ]
        },
        {
          "output_type": "execute_result",
          "data": {
            "text/plain": [
              "RandomForestClassifier(criterion='entropy', n_estimators=300, random_state=5)"
            ]
          },
          "metadata": {},
          "execution_count": 48
        }
      ]
    },
    {
      "cell_type": "code",
      "source": [
        "y_pred3 = classifier_Random.predict(X_test)\n",
        "y_pred3"
      ],
      "metadata": {
        "colab": {
          "base_uri": "https://localhost:8080/"
        },
        "id": "Ofvu82vfDEXk",
        "outputId": "24cc80b1-e784-493f-8506-7890d344f164"
      },
      "execution_count": null,
      "outputs": [
        {
          "output_type": "execute_result",
          "data": {
            "text/plain": [
              "array([0, 1, 1, 0, 0, 1, 0, 0, 0, 1, 0, 1, 1, 1, 1, 1, 0, 1, 0, 1, 1, 0,\n",
              "       0, 0, 1, 1, 0, 0, 0, 0, 1, 1, 0, 1, 0, 0, 1, 0, 0, 0, 1, 1, 0, 0,\n",
              "       0, 1, 0, 0, 0, 0, 0, 0, 1, 1, 1, 0, 0, 0, 0, 1, 1, 1, 0, 1, 1, 1,\n",
              "       1, 1, 1, 1, 0, 1, 1, 0, 1, 0, 0, 0, 1, 1, 1, 0, 0, 0, 1, 1, 0, 0,\n",
              "       1, 0, 1, 1, 0, 0, 1, 1, 0, 0, 1, 1, 0, 1, 1, 0, 1, 1, 0, 0, 0, 0,\n",
              "       0, 1, 1, 0, 0, 1, 0, 1, 0, 1, 0, 1, 1, 1, 1, 0, 1, 1, 0, 1, 0, 0,\n",
              "       0, 0, 1, 1, 1, 1, 0, 1, 1, 0, 1, 1, 0, 1, 0, 0, 1, 0, 0, 1, 1, 0,\n",
              "       1, 1, 0, 0, 0, 1, 1, 0, 0, 1, 1, 1, 1, 0, 1, 1, 0, 0, 0, 0, 0, 0,\n",
              "       1, 1, 0, 1, 0, 0, 0, 1, 1, 0, 1, 0, 1, 0, 0, 1, 1, 0, 1, 1, 0])"
            ]
          },
          "metadata": {},
          "execution_count": 49
        }
      ]
    },
    {
      "cell_type": "code",
      "source": [
        "from sklearn.metrics import confusion_matrix\n",
        "cm = confusion_matrix(y_test, y_pred3)\n",
        "print('Confusion matrix: ')\n",
        "print(cm)"
      ],
      "metadata": {
        "colab": {
          "base_uri": "https://localhost:8080/"
        },
        "id": "mngPlTGiDLv6",
        "outputId": "3009dcbc-78a9-4cfd-98ce-ba1db94f7d92"
      },
      "execution_count": null,
      "outputs": [
        {
          "output_type": "stream",
          "name": "stdout",
          "text": [
            "Confusion matrix: \n",
            "[[91  4]\n",
            " [ 8 94]]\n"
          ]
        }
      ]
    },
    {
      "cell_type": "code",
      "source": [
        "from sklearn.metrics import accuracy_score\n",
        "print('Accuracy: %.2f' % (accuracy_score(y_test, y_pred3)*100))\n",
        "from sklearn.metrics import precision_score\n",
        "from sklearn.metrics import recall_score\n",
        "from sklearn.metrics import f1_score\n",
        "precision = precision_score(y_test, y_pred3, average='binary')\n",
        "print('Precision: %.2f' % (precision*100))\n",
        "recall = recall_score(y_test, y_pred3, average='binary')\n",
        "print('Recall: %.3f' % (recall*100))\n",
        "score = f1_score(y_test, y_pred3, average='binary')\n",
        "print('F-Measure: %.3f' % (score*100))"
      ],
      "metadata": {
        "colab": {
          "base_uri": "https://localhost:8080/"
        },
        "id": "tOwvr2fODYH_",
        "outputId": "9dba88a4-8a2b-458a-8598-ea14574ee055"
      },
      "execution_count": null,
      "outputs": [
        {
          "output_type": "stream",
          "name": "stdout",
          "text": [
            "Accuracy: 93.91\n",
            "Precision: 95.92\n",
            "Recall: 92.157\n",
            "F-Measure: 94.000\n"
          ]
        }
      ]
    },
    {
      "cell_type": "code",
      "source": [
        "V1 = -2.3122265423263 #@param {type:\"number\"}\n",
        "\n",
        "V2 = 1.95199201064158 #@param {type:\"number\"}\n",
        "\n",
        "V3 = -1.60985073229769 #@param {type:\"number\"}\n",
        "\n",
        "V4 = 3.9979055875468 #@param {type:\"number\"}\n",
        "\n",
        "V5 = -0.522187864667764 #@param {type:\"number\"}\n",
        "\n",
        "V6 = -1.42654531920595 #@param {type:\"number\"}\n",
        "\n",
        "V7 = -2.53738730624579 #@param {type:\"number\"}\n",
        "\n",
        "V8 = 1.39165724829804 #@param {type:\"number\"}\n",
        "\n",
        "V9 = -2.77008927719433 #@param {type:\"number\"}\n",
        "\n",
        "V10 = -2.77227214465915 #@param {type:\"number\"}\n",
        "\n",
        "V11 = 3.20203320709635 #@param {type:\"number\"}\n",
        "\n",
        "V12 = -2.89990738849473 #@param {type:\"number\"}\n",
        "\n",
        "V13 = -0.595221881324605 #@param {type:\"number\"}\n",
        "\n",
        "V14 = -4.28925378244217 #@param {type:\"number\"}\n",
        "\n",
        "V15 = 0.389724120274487 #@param {type:\"number\"}\n",
        "\n",
        "V16 = -1.14074717980657 #@param {type:\"number\"}\n",
        "\n",
        "V17 = -2.83005567450437 #@param {type:\"number\"}\n",
        "\n",
        "V18 = -0.0168224681808257 #@param {type:\"number\"}\n",
        "\n",
        "V19 = 0.416955705037907 #@param {type:\"number\"}\n",
        "\n",
        "V20 = 0.126910559061474 #@param {type:\"number\"}\n",
        "\n",
        "V21 = 0.517232370861764 #@param {type:\"number\"}\n",
        "\n",
        "V22 = -0.0350493686052974 #@param {type:\"number\"}\n",
        "\n",
        "V23 = -0.465211076182388 #@param {type:\"number\"}\n",
        "\n",
        "V24 = 0.320198198514526 #@param {type:\"number\"}\n",
        "\n",
        "V25 = 0.0445191674731724 #@param {type:\"number\"}\n",
        "\n",
        "V26 = 0.177839798284401 #@param {type:\"number\"}\n",
        "\n",
        "V27 = 0.261145002567677 #@param {type:\"number\"}\n",
        "\n",
        "V28 = -0.143275874698919 #@param {type:\"number\"}\n",
        "\n",
        "Amount = 0 #@param {type:\"number\"}\n",
        "\n",
        "output3 = classifier_Random.predict(sc.transform([[V1,V2,V3,V4,V5,V6,V7,V8,V9,V10,V11,V12,V13,V14,V15,V16,V17,V18,V19,V20,V21,V22,V23,V24,V25,V26,V27,V28,Amount]]))\n",
        "\n",
        "print(\"Class =\", output3)\n",
        "\n",
        "if output3==[1]:\n",
        "  print( 'It is a Fraud')\n",
        "else:\n",
        "  print('It is not Fraud')\n",
        "\n"
      ],
      "metadata": {
        "colab": {
          "base_uri": "https://localhost:8080/"
        },
        "id": "uOyWkycnDl4Z",
        "outputId": "8097f762-e497-48ff-e1db-9719117fc5ce"
      },
      "execution_count": null,
      "outputs": [
        {
          "output_type": "stream",
          "name": "stdout",
          "text": [
            "Class = [1]\n",
            "It is a Fraud\n"
          ]
        }
      ]
    },
    {
      "cell_type": "code",
      "source": [
        "import pickle \n",
        "print(\"[INFO] Saving model...\")\n",
        "saved_model3=pickle.dump(classifier_Random,open('/content/drive/My Drive/Colab Notebooks/Random-Forest_Major.pkl', 'wb'))"
      ],
      "metadata": {
        "colab": {
          "base_uri": "https://localhost:8080/"
        },
        "id": "hWCJsoeoEF2b",
        "outputId": "c8da2eb1-7081-40f1-ed8b-ebf1ca143408"
      },
      "execution_count": null,
      "outputs": [
        {
          "output_type": "stream",
          "name": "stdout",
          "text": [
            "[INFO] Saving model...\n"
          ]
        }
      ]
    },
    {
      "cell_type": "code",
      "source": [
        "model3 = pickle.load(open('/content/drive/My Drive/Colab Notebooks/Random-Forest_Major.pkl','rb'))\n",
        "model3.predict(X_test)"
      ],
      "metadata": {
        "colab": {
          "base_uri": "https://localhost:8080/"
        },
        "id": "6TVlu6paEU6j",
        "outputId": "a2581e41-a35f-4cd0-d137-16a989cca574"
      },
      "execution_count": null,
      "outputs": [
        {
          "output_type": "execute_result",
          "data": {
            "text/plain": [
              "array([0, 1, 1, 0, 0, 1, 0, 0, 0, 1, 0, 1, 1, 1, 1, 1, 0, 1, 0, 1, 1, 0,\n",
              "       0, 0, 1, 1, 0, 0, 0, 0, 1, 1, 0, 1, 0, 0, 1, 0, 0, 0, 1, 1, 0, 0,\n",
              "       0, 1, 0, 0, 0, 0, 0, 0, 1, 1, 1, 0, 0, 0, 0, 1, 1, 1, 0, 1, 1, 1,\n",
              "       1, 1, 1, 1, 0, 1, 1, 0, 1, 0, 0, 0, 1, 1, 1, 0, 0, 0, 1, 1, 0, 0,\n",
              "       1, 0, 1, 1, 0, 0, 1, 1, 0, 0, 1, 1, 0, 1, 1, 0, 1, 1, 0, 0, 0, 0,\n",
              "       0, 1, 1, 0, 0, 1, 0, 1, 0, 1, 0, 1, 1, 1, 1, 0, 1, 1, 0, 1, 0, 0,\n",
              "       0, 0, 1, 1, 1, 1, 0, 1, 1, 0, 1, 1, 0, 1, 0, 0, 1, 0, 0, 1, 1, 0,\n",
              "       1, 1, 0, 0, 0, 1, 1, 0, 0, 1, 1, 1, 1, 0, 1, 1, 0, 0, 0, 0, 0, 0,\n",
              "       1, 1, 0, 1, 0, 0, 0, 1, 1, 0, 1, 0, 1, 0, 0, 1, 1, 0, 1, 1, 0])"
            ]
          },
          "metadata": {},
          "execution_count": 54
        }
      ]
    },
    {
      "cell_type": "markdown",
      "source": [
        "# SVM Algorithm"
      ],
      "metadata": {
        "id": "qImxWsLlFgGX"
      }
    },
    {
      "cell_type": "code",
      "source": [
        "from sklearn.svm import SVC\n",
        "classifier2 = SVC(kernel = 'rbf', random_state = 5, probability=True)\n",
        "classifier2.fit(X_train, y_train)"
      ],
      "metadata": {
        "colab": {
          "base_uri": "https://localhost:8080/"
        },
        "id": "KsF1iIaKEoAo",
        "outputId": "6e61fec0-ac04-4065-9030-51cdc5c391b9"
      },
      "execution_count": null,
      "outputs": [
        {
          "output_type": "stream",
          "name": "stderr",
          "text": [
            "/usr/local/lib/python3.7/dist-packages/sklearn/utils/validation.py:993: DataConversionWarning: A column-vector y was passed when a 1d array was expected. Please change the shape of y to (n_samples, ), for example using ravel().\n",
            "  y = column_or_1d(y, warn=True)\n"
          ]
        },
        {
          "output_type": "execute_result",
          "data": {
            "text/plain": [
              "SVC(probability=True, random_state=5)"
            ]
          },
          "metadata": {},
          "execution_count": 55
        }
      ]
    },
    {
      "cell_type": "code",
      "source": [
        "y_pred4 = classifier2.predict(X_test)\n",
        "y_pred4"
      ],
      "metadata": {
        "colab": {
          "base_uri": "https://localhost:8080/"
        },
        "id": "MkZBrAaqF322",
        "outputId": "a4b119cb-0477-4485-dfa0-63afe0cafc7c"
      },
      "execution_count": null,
      "outputs": [
        {
          "output_type": "execute_result",
          "data": {
            "text/plain": [
              "array([0, 1, 1, 0, 0, 1, 0, 0, 0, 1, 0, 1, 1, 1, 1, 1, 0, 1, 0, 1, 1, 0,\n",
              "       0, 0, 1, 0, 0, 0, 0, 0, 1, 1, 0, 1, 0, 0, 1, 0, 0, 0, 0, 1, 0, 0,\n",
              "       0, 1, 0, 0, 0, 0, 0, 0, 1, 1, 1, 0, 0, 0, 0, 1, 1, 1, 0, 1, 1, 1,\n",
              "       1, 1, 1, 1, 0, 1, 1, 0, 1, 0, 0, 0, 1, 1, 1, 0, 0, 0, 1, 1, 0, 0,\n",
              "       1, 0, 1, 1, 0, 0, 1, 1, 0, 0, 1, 1, 0, 1, 1, 0, 1, 1, 0, 0, 0, 0,\n",
              "       0, 1, 1, 0, 0, 1, 0, 1, 0, 0, 0, 1, 1, 1, 1, 0, 1, 1, 0, 1, 0, 0,\n",
              "       0, 0, 1, 1, 1, 1, 0, 1, 1, 0, 1, 1, 0, 1, 0, 0, 1, 0, 0, 1, 1, 0,\n",
              "       1, 1, 0, 0, 0, 1, 1, 0, 0, 1, 1, 1, 1, 0, 1, 1, 0, 0, 0, 0, 0, 0,\n",
              "       1, 0, 0, 1, 0, 0, 0, 1, 1, 0, 1, 0, 1, 0, 0, 1, 1, 0, 1, 1, 0])"
            ]
          },
          "metadata": {},
          "execution_count": 56
        }
      ]
    },
    {
      "cell_type": "code",
      "source": [
        "from sklearn.metrics import confusion_matrix\n",
        "cm = confusion_matrix(y_test, y_pred4)\n",
        "print('Confusion matrix: ')\n",
        "print(cm)"
      ],
      "metadata": {
        "colab": {
          "base_uri": "https://localhost:8080/"
        },
        "id": "MLRl46jrGTpH",
        "outputId": "a0bb3ec2-eabe-480b-e8e5-ccda6067b6ab"
      },
      "execution_count": null,
      "outputs": [
        {
          "output_type": "stream",
          "name": "stdout",
          "text": [
            "Confusion matrix: \n",
            "[[93  2]\n",
            " [10 92]]\n"
          ]
        }
      ]
    },
    {
      "cell_type": "code",
      "source": [
        "from sklearn.metrics import accuracy_score\n",
        "print('Accuracy: %.2f' % (accuracy_score(y_test, y_pred4)*100))\n",
        "from sklearn.metrics import precision_score\n",
        "from sklearn.metrics import recall_score\n",
        "from sklearn.metrics import f1_score\n",
        "precision = precision_score(y_test, y_pred4, average='binary')\n",
        "print('Precision: %.2f' % (precision*100))\n",
        "recall = recall_score(y_test, y_pred4, average='binary')\n",
        "print('Recall: %.3f' % (recall*100))\n",
        "score = f1_score(y_test, y_pred4, average='binary')\n",
        "print('F-Measure: %.3f' % (score*100))"
      ],
      "metadata": {
        "colab": {
          "base_uri": "https://localhost:8080/"
        },
        "id": "P0sAGwvnGlST",
        "outputId": "f1521ac6-a8d9-4d41-eff7-46625f901830"
      },
      "execution_count": null,
      "outputs": [
        {
          "output_type": "stream",
          "name": "stdout",
          "text": [
            "Accuracy: 93.91\n",
            "Precision: 97.87\n",
            "Recall: 90.196\n",
            "F-Measure: 93.878\n"
          ]
        }
      ]
    },
    {
      "cell_type": "code",
      "source": [
        "V1 = -2.3122265423263 #@param {type:\"number\"}\n",
        "\n",
        "V2 = 1.95199201064158 #@param {type:\"number\"}\n",
        "\n",
        "V3 = -1.60985073229769 #@param {type:\"number\"}\n",
        "\n",
        "V4 = 3.9979055875468 #@param {type:\"number\"}\n",
        "\n",
        "V5 = -0.522187864667764 #@param {type:\"number\"}\n",
        "\n",
        "V6 = -1.42654531920595 #@param {type:\"number\"}\n",
        "\n",
        "V7 = -2.53738730624579 #@param {type:\"number\"}\n",
        "\n",
        "V8 = 1.39165724829804 #@param {type:\"number\"}\n",
        "\n",
        "V9 = -2.77008927719433 #@param {type:\"number\"}\n",
        "\n",
        "V10 = -2.77227214465915 #@param {type:\"number\"}\n",
        "\n",
        "V11 = 3.20203320709635 #@param {type:\"number\"}\n",
        "\n",
        "V12 = -2.89990738849473 #@param {type:\"number\"}\n",
        "\n",
        "V13 = -0.595221881324605 #@param {type:\"number\"}\n",
        "\n",
        "V14 = -4.28925378244217 #@param {type:\"number\"}\n",
        "\n",
        "V15 = 0.389724120274487 #@param {type:\"number\"}\n",
        "\n",
        "V16 = -1.14074717980657 #@param {type:\"number\"}\n",
        "\n",
        "V17 = -2.83005567450437 #@param {type:\"number\"}\n",
        "\n",
        "V18 = -0.0168224681808257 #@param {type:\"number\"}\n",
        "\n",
        "V19 = 0.416955705037907 #@param {type:\"number\"}\n",
        "\n",
        "V20 = 0.126910559061474 #@param {type:\"number\"}\n",
        "\n",
        "V21 = 0.517232370861764 #@param {type:\"number\"}\n",
        "\n",
        "V22 = -0.0350493686052974 #@param {type:\"number\"}\n",
        "\n",
        "V23 = -0.465211076182388 #@param {type:\"number\"}\n",
        "\n",
        "V24 = 0.320198198514526 #@param {type:\"number\"}\n",
        "\n",
        "V25 = 0.0445191674731724 #@param {type:\"number\"}\n",
        "\n",
        "V26 = 0.177839798284401 #@param {type:\"number\"}\n",
        "\n",
        "V27 = 0.261145002567677 #@param {type:\"number\"}\n",
        "\n",
        "V28 = -0.143275874698919 #@param {type:\"number\"}\n",
        "\n",
        "Amount = 0 #@param {type:\"number\"}\n",
        "\n",
        "output4 = classifier2.predict(sc.transform([[V1,V2,V3,V4,V5,V6,V7,V8,V9,V10,V11,V12,V13,V14,V15,V16,V17,V18,V19,V20,V21,V22,V23,V24,V25,V26,V27,V28,Amount]]))\n",
        "\n",
        "print(\"Class =\", output4)\n",
        "\n",
        "if output4==[1]:\n",
        "  print( 'It is a Fraud')\n",
        "else:\n",
        "  print('It is not Fraud')\n",
        "\n"
      ],
      "metadata": {
        "colab": {
          "base_uri": "https://localhost:8080/"
        },
        "id": "jTEuLFYoHqxz",
        "outputId": "899dbcbc-616f-4f04-d02c-8b2ff1a986c9"
      },
      "execution_count": null,
      "outputs": [
        {
          "output_type": "stream",
          "name": "stdout",
          "text": [
            "Class = [1]\n",
            "It is a Fraud\n"
          ]
        }
      ]
    },
    {
      "cell_type": "code",
      "source": [
        "import pickle \n",
        "print(\"[INFO] Saving model...\")\n",
        "saved_model4=pickle.dump(classifier2,open('/content/drive/My Drive/Colab Notebooks/SVM_Major.pkl', 'wb'))"
      ],
      "metadata": {
        "colab": {
          "base_uri": "https://localhost:8080/"
        },
        "id": "tSMRIokOIJWK",
        "outputId": "6ce9775a-326f-46d5-f53c-449673c3545b"
      },
      "execution_count": null,
      "outputs": [
        {
          "output_type": "stream",
          "name": "stdout",
          "text": [
            "[INFO] Saving model...\n"
          ]
        }
      ]
    },
    {
      "cell_type": "code",
      "source": [
        "model4 = pickle.load(open('/content/drive/My Drive/Colab Notebooks/SVM_Major.pkl','rb'))\n",
        "model4.predict(X_test)"
      ],
      "metadata": {
        "colab": {
          "base_uri": "https://localhost:8080/"
        },
        "id": "GlvooWgcIc9m",
        "outputId": "e2e73279-5b0b-4be6-d5b2-233f18b0f9f0"
      },
      "execution_count": null,
      "outputs": [
        {
          "output_type": "execute_result",
          "data": {
            "text/plain": [
              "array([0, 1, 1, 0, 0, 1, 0, 0, 0, 1, 0, 1, 1, 1, 1, 1, 0, 1, 0, 1, 1, 0,\n",
              "       0, 0, 1, 0, 0, 0, 0, 0, 1, 1, 0, 1, 0, 0, 1, 0, 0, 0, 0, 1, 0, 0,\n",
              "       0, 1, 0, 0, 0, 0, 0, 0, 1, 1, 1, 0, 0, 0, 0, 1, 1, 1, 0, 1, 1, 1,\n",
              "       1, 1, 1, 1, 0, 1, 1, 0, 1, 0, 0, 0, 1, 1, 1, 0, 0, 0, 1, 1, 0, 0,\n",
              "       1, 0, 1, 1, 0, 0, 1, 1, 0, 0, 1, 1, 0, 1, 1, 0, 1, 1, 0, 0, 0, 0,\n",
              "       0, 1, 1, 0, 0, 1, 0, 1, 0, 0, 0, 1, 1, 1, 1, 0, 1, 1, 0, 1, 0, 0,\n",
              "       0, 0, 1, 1, 1, 1, 0, 1, 1, 0, 1, 1, 0, 1, 0, 0, 1, 0, 0, 1, 1, 0,\n",
              "       1, 1, 0, 0, 0, 1, 1, 0, 0, 1, 1, 1, 1, 0, 1, 1, 0, 0, 0, 0, 0, 0,\n",
              "       1, 0, 0, 1, 0, 0, 0, 1, 1, 0, 1, 0, 1, 0, 0, 1, 1, 0, 1, 1, 0])"
            ]
          },
          "metadata": {},
          "execution_count": 61
        }
      ]
    },
    {
      "cell_type": "code",
      "source": [
        "!pip install flask-ngrok"
      ],
      "metadata": {
        "colab": {
          "base_uri": "https://localhost:8080/"
        },
        "id": "21zXxGoWIlr3",
        "outputId": "29adb55d-2afe-423a-9f2c-7371af3914de"
      },
      "execution_count": null,
      "outputs": [
        {
          "output_type": "stream",
          "name": "stdout",
          "text": [
            "Looking in indexes: https://pypi.org/simple, https://us-python.pkg.dev/colab-wheels/public/simple/\n",
            "Collecting flask-ngrok\n",
            "  Downloading flask_ngrok-0.0.25-py3-none-any.whl (3.1 kB)\n",
            "Requirement already satisfied: Flask>=0.8 in /usr/local/lib/python3.7/dist-packages (from flask-ngrok) (1.1.4)\n",
            "Requirement already satisfied: requests in /usr/local/lib/python3.7/dist-packages (from flask-ngrok) (2.23.0)\n",
            "Requirement already satisfied: Werkzeug<2.0,>=0.15 in /usr/local/lib/python3.7/dist-packages (from Flask>=0.8->flask-ngrok) (1.0.1)\n",
            "Requirement already satisfied: Jinja2<3.0,>=2.10.1 in /usr/local/lib/python3.7/dist-packages (from Flask>=0.8->flask-ngrok) (2.11.3)\n",
            "Requirement already satisfied: click<8.0,>=5.1 in /usr/local/lib/python3.7/dist-packages (from Flask>=0.8->flask-ngrok) (7.1.2)\n",
            "Requirement already satisfied: itsdangerous<2.0,>=0.24 in /usr/local/lib/python3.7/dist-packages (from Flask>=0.8->flask-ngrok) (1.1.0)\n",
            "Requirement already satisfied: MarkupSafe>=0.23 in /usr/local/lib/python3.7/dist-packages (from Jinja2<3.0,>=2.10.1->Flask>=0.8->flask-ngrok) (2.0.1)\n",
            "Requirement already satisfied: urllib3!=1.25.0,!=1.25.1,<1.26,>=1.21.1 in /usr/local/lib/python3.7/dist-packages (from requests->flask-ngrok) (1.24.3)\n",
            "Requirement already satisfied: idna<3,>=2.5 in /usr/local/lib/python3.7/dist-packages (from requests->flask-ngrok) (2.10)\n",
            "Requirement already satisfied: certifi>=2017.4.17 in /usr/local/lib/python3.7/dist-packages (from requests->flask-ngrok) (2022.6.15)\n",
            "Requirement already satisfied: chardet<4,>=3.0.2 in /usr/local/lib/python3.7/dist-packages (from requests->flask-ngrok) (3.0.4)\n",
            "Installing collected packages: flask-ngrok\n",
            "Successfully installed flask-ngrok-0.0.25\n"
          ]
        }
      ]
    },
    {
      "cell_type": "markdown",
      "source": [
        "# HTML Pages"
      ],
      "metadata": {
        "id": "0xXfkVRSHEki"
      }
    },
    {
      "cell_type": "code",
      "source": [
        "%mkdir templates -p"
      ],
      "metadata": {
        "id": "Yh7fbq3QJO2S"
      },
      "execution_count": null,
      "outputs": []
    },
    {
      "cell_type": "code",
      "source": [
        "%mkdir static -p"
      ],
      "metadata": {
        "id": "NNht9vzTFyDp"
      },
      "execution_count": null,
      "outputs": []
    },
    {
      "cell_type": "code",
      "source": [
        "%mkdir static/css -p \n",
        "%mkdir static/image -p"
      ],
      "metadata": {
        "id": "CjvD0U-cRADQ"
      },
      "execution_count": null,
      "outputs": []
    },
    {
      "cell_type": "code",
      "source": [
        "%%writefile templates/index.html\n",
        "<!DOCTYPE html>\n",
        "<html >\n",
        "<!--From https://codepen.io/frytyler/pen/EGdtg-->\n",
        "<head>\n",
        "<title>Credit Card Fraud Detection</title>\n",
        "<meta charset=\"UTF-8\">\n",
        "<link href='https://fonts.googleapis.com/css?family=Open+Sans+Condensed:300' rel='stylesheet' type='text/css'>\n",
        "<!-- JavaScript Bundle with Popper -->\n",
        "<script src=\"https://cdn.jsdelivr.net/npm/bootstrap@5.2.0/dist/js/bootstrap.bundle.min.js\" integrity=\"sha384-A3rJD856KowSb7dwlZdYEkO39Gagi7vIsF0jrRAoQmDKKtQBHUuLZ9AsSv4jD4Xa\" crossorigin=\"anonymous\"></script>\n",
        "<link href=\"https://cdn.jsdelivr.net/npm/bootstrap@5.0.0-beta1/dist/css/bootstrap.min.css\" rel=\"stylesheet\" integrity=\"sha384-giJF6kkoqNQ00vy+HMDP7azOuL0xtbfIcaT9wjKHr8RbDVddVHyTfAAsrekwKmP1\" crossorigin=\"anonymous\"> \n",
        "<nav style=\"width: 100%;\" class=\"myReference\">\n",
        "<a class=\"  navbar-brand\" href=\"#\" style=\"margin-left: 0px; margin-top: 0px; margin-right: 0px; margin-botttom: 0px;\">\n",
        "    <img style=\"max-height: auto; width:100%;\" src=\"{{ url_for('static',filename = 'image/PIET logo with tagline.jpg')  }}\" \n",
        "    class=\"img-responsive\" style=\"margin-top:0px;style=width: auto; height: auto; min-width:100%; min-height: auto;\">\n",
        " <ul class='nav-links'>\n",
        " <li><a class=\"active\" href=\"/aboutme\">About</a></li>\n",
        "</ul>\n",
        "<style><!DOCTYPE html>\n",
        "\n",
        "h1 {text-align: center;}\n",
        "h2 {text-align: center;}\n",
        "h3 {text-align: center;}\n",
        "p {text-align: center;}\n",
        "div {text-align: center;}\n",
        "</style>\n",
        "\n",
        "<style>\n",
        "ul {\n",
        "  list-style-type: none;\n",
        "  margin: 0;\n",
        "  padding: 0;\n",
        "  overflow: hidden;\n",
        "  background-color: #333;\n",
        "}\n",
        ".myDiv {\n",
        "  border: 10px outset lightblue;\n",
        "  background-color: lightblue;    \n",
        "  text-align: center;\n",
        "}\n",
        "\n",
        ".button {\n",
        "  background-color: lightblue;\n",
        "  border: none;\n",
        "  color: white;\n",
        "  padding: 16px 32px;\n",
        "  text-align: center;\n",
        "  text-decoration: none;\n",
        "  display: inline-block;\n",
        "  font-size: 16px;\n",
        "  margin: 4px 2px;\n",
        "  transition-duration: 0.4s;\n",
        "  cursor: pointer;\n",
        "\n",
        "}\n",
        ".button1 {\n",
        "  background-color: white; \n",
        "  color: black; \n",
        "  border: 5px solid darkblue;\n",
        "}\n",
        "\n",
        ".button1:hover {\n",
        "  background-color: #f64949ab;\n",
        "  color: white;\n",
        "}\n",
        "\n",
        ".button2 {\n",
        "  background-color: white; \n",
        "  color: black; \n",
        "  border: 5px solid darkblue;\n",
        "}\n",
        "\n",
        ".button2:hover {\n",
        "  background-color: #37bea5;\n",
        "  color: white;\n",
        "}\n",
        "\n",
        ".button3 {\n",
        "  background-color: white; \n",
        "  color: black; \n",
        "  border: 5px solid darkblue;\n",
        "}\n",
        "\n",
        ".button3:hover {\n",
        "  background-color: #9c0e9d;\n",
        "  color: white;\n",
        "}\n",
        "\n",
        ".button4 {\n",
        "  background-color: white; \n",
        "  color: black; \n",
        "  border: 5px solid darkblue;\n",
        "}\n",
        "\n",
        ".button4:hover {\n",
        "  background-color: #b1c711;\n",
        "  color: white;\n",
        "}\n",
        "\n",
        ".button5 {\n",
        "  background-color: white; \n",
        "  color: black; \n",
        "  border: 5px solid darkblue;\n",
        "}\n",
        "\n",
        ".button5:hover {\n",
        "  background-color: #740821;\n",
        "  color: white;\n",
        "}\n",
        "\n",
        ".button6 {\n",
        "  background-color: white; \n",
        "  color: black; \n",
        "  border: 5px solid darkblue;\n",
        "}\n",
        "\n",
        ".button6:hover {\n",
        "  background-color: #0eab60;\n",
        "  color: white;\n",
        "}\n",
        "</style>\n",
        "</head>\n",
        "\n",
        "<body>\n",
        "      \n",
        "<div class=\"myDiv\" style=\"background-color:grey;\" >\n",
        "           \n",
        "<div class=\"col-md-12\">\n",
        "<center><p style=\"font-size:40px;color:white;margin-top:10px;\">Poornima Institute of Engineering & Technology</p></center> \n",
        "<center><p style=\"font-size:30px;color:white;margin-top:10px;\">Department of Computer Engineering</p></center> \n",
        "<center><p style=\"font-size:25px;color:white;margin-top:10px;\">Summer Internship 2022 on Machine learning and Data Science</p></center> \n",
        "</div>\n",
        "\n",
        "<div class=\"login\">\n",
        "<h2 ><u>Analysis to Predict whether it is a fraud or not</u></h2>\n",
        "<h3><i><u>Developed by Alok Raj</i></u></h3>\n",
        "<!-- Main Input For Receiving Query to our ML -->\n",
        "<form action=\"{{ url_for('predict')}}\"method=\"get\">\n",
        "\n",
        "\n",
        "<div class=\"form-floating mb-3\">\n",
        "\n",
        "<input type=\"number\" class=\"form-control\" id=\"V1\" name=\"V1\" step=\"any\" min=\"-31.0\" max=\"100.0\" placeholder=\"0\" required=\"required\">\n",
        "<label for=\"floatingInput\">Enter value of V1</label>\n",
        "</div>\n",
        "<br>\n",
        "\n",
        "<div class=\"form-floating mb-3\">\n",
        "\n",
        "<input type=\"number\" class=\"form-control\" id=\"V2\" name=\"V2\" step=\"any\" min=\"-15.0\" max=\"100.0\" placeholder=\"0\" required=\"required\">\n",
        "<label for=\"floatingInput\">Enter value of V2</label>\n",
        "</div>\n",
        "<br>\n",
        "\n",
        "<div class=\"form-floating mb-3\">\n",
        "\n",
        "<input type=\"number\" class=\"form-control\" id=\"V3\" name=\"V3\" step=\"any\" min=\"-32.0\" max=\"100.0\" placeholder=\"0\" required=\"required\">\n",
        "<label for=\"floatingInput\">Enter value of V3</label>\n",
        "</div>\n",
        "<br>\n",
        "\n",
        "<div class=\"form-floating mb-3\">\n",
        "\n",
        "<input type=\"number\" class=\"form-control\" id=\"V4\" name=\"V4\" step=\"any\" min=\"-4.0\" max=\"100.0\" placeholder=\"0\" required=\"required\">\n",
        "<label for=\"floatingInput\">Enter value of V4</label>\n",
        "</div>\n",
        "<br>\n",
        "\n",
        "<div class=\"form-floating mb-3\">\n",
        "\n",
        "<input type=\"number\" class=\"form-control\" id=\"V5\" name=\"V5\" step=\"any\" min=\"-23.0\" max=\"100.0\" placeholder=\"0\" required=\"required\">\n",
        "<label for=\"floatingInput\">Enter value of V5</label>\n",
        "</div>\n",
        "<br>\n",
        "\n",
        "<div class=\"form-floating mb-3\">\n",
        "\n",
        "<input type=\"number\" class=\"form-control\" id=\"V6\" name=\"V6\" step=\"any\" min=\"-7.0\" max=\"100.0\" placeholder=\"0\" required=\"required\">\n",
        "<label for=\"floatingInput\">Enter value of V6</label>\n",
        "</div>\n",
        "<br>\n",
        "\n",
        "<div class=\"form-floating mb-3\">\n",
        "\n",
        "<input type=\"number\" class=\"form-control\" id=\"V7\" name=\"V7\" step=\"any\" min=\"-44.0\" max=\"100.0\" placeholder=\"0\" required=\"required\">\n",
        "<label for=\"floatingInput\">Enter value of V7</label>\n",
        "</div>\n",
        "<br>\n",
        "\n",
        "<div class=\"form-floating mb-3\">\n",
        "\n",
        "<input type=\"number\" class=\"form-control\" id=\"V8\" name=\"V8\" step=\"any\" min=\"-42.0\" max=\"100.0\" placeholder=\"0\" required=\"required\">\n",
        "<label for=\"floatingInput\">Enter value of V8</label>\n",
        "</div>\n",
        "<br>\n",
        "\n",
        "<div class=\"form-floating mb-3\">\n",
        "\n",
        "<input type=\"number\" class=\"form-control\" id=\"V9\" name=\"V9\" step=\"any\" min=\"-14.0\" max=\"100.0\" placeholder=\"0\" required=\"required\">\n",
        "<label for=\"floatingInput\">Enter value of V9</label>\n",
        "</div>\n",
        "<br>\n",
        "\n",
        "<div class=\"form-floating mb-3\">\n",
        "\n",
        "<input type=\"number\" class=\"form-control\" id=\"V10\" name=\"V10\" step=\"any\" min=\"-25.0\" max=\"100.0\" placeholder=\"0\" required=\"required\">\n",
        "<label for=\"floatingInput\">Enter value of V10</label>\n",
        "</div>\n",
        "<br>\n",
        "\n",
        "<div class=\"form-floating mb-3\">\n",
        "\n",
        "<input type=\"number\" class=\"form-control\" id=\"V11\" name=\"V11\" step=\"any\" min=\"-3.0\" max=\"100.0\" placeholder=\"0\" required=\"required\">\n",
        "<label for=\"floatingInput\">Enter value of V11</label>\n",
        "</div>\n",
        "<br>\n",
        "\n",
        "<div class=\"form-floating mb-3\">\n",
        "\n",
        "<input type=\"number\" class=\"form-control\" id=\"V12\" name=\"V12\" step=\"any\" min=\"-19.0\" max=\"100.0\" placeholder=\"0\" required=\"required\">\n",
        "<label for=\"floatingInput\">Enter value of V12</label>\n",
        "</div>\n",
        "<br>\n",
        "\n",
        "<div class=\"form-floating mb-3\">\n",
        "\n",
        "<input type=\"number\" class=\"form-control\" id=\"V13\" name=\"V13\" step=\"any\" min=\"-4.0\" max=\"100.0\" placeholder=\"0\" required=\"required\">\n",
        "<label for=\"floatingInput\">Enter value of V13</label>\n",
        "</div>\n",
        "<br>\n",
        "\n",
        "<div class=\"form-floating mb-3\">\n",
        "\n",
        "<input type=\"number\" class=\"form-control\" id=\"V14\" name=\"V14\" step=\"any\" min=\"-20.0\" max=\"100.0\" placeholder=\"0\" required=\"required\">\n",
        "<label for=\"floatingInput\">Enter value of V14</label>\n",
        "</div>\n",
        "<br>\n",
        "\n",
        "<div class=\"form-floating mb-3\">\n",
        "\n",
        "<input type=\"number\" class=\"form-control\" id=\"V15\" name=\"V15\" step=\"any\" min=\"-5.0\" max=\"100.0\" placeholder=\"0\" required=\"required\">\n",
        "<label for=\"floatingInput\">Enter value of V15</label>\n",
        "</div>\n",
        "<br>\n",
        "\n",
        "<div class=\"form-floating mb-3\">\n",
        "\n",
        "<input type=\"number\" class=\"form-control\" id=\"V16\" name=\"V16\" step=\"any\" min=\"-15.0\" max=\"100.0\" placeholder=\"0\" required=\"required\">\n",
        "<label for=\"floatingInput\">Enter value of V16</label>\n",
        "</div>\n",
        "<br>\n",
        "\n",
        "<div class=\"form-floating mb-3\">\n",
        "\n",
        "<input type=\"number\" class=\"form-control\" id=\"V17\" name=\"V17\" step=\"any\" min=\"-26.0\" max=\"100.0\" placeholder=\"0\" required=\"required\">\n",
        "<label for=\"floatingInput\">Enter value of V17</label>\n",
        "</div>\n",
        "<br>\n",
        "\n",
        "<div class=\"form-floating mb-3\">\n",
        "\n",
        "<input type=\"number\" class=\"form-control\" id=\"V18\" name=\"V18\" step=\"any\" min=\"-10.0\" max=\"100.0\" placeholder=\"0\" required=\"required\">\n",
        "<label for=\"floatingInput\">Enter value of V18</label>\n",
        "</div>\n",
        "<br>\n",
        "\n",
        "<div class=\"form-floating mb-3\">\n",
        "\n",
        "<input type=\"number\" class=\"form-control\" id=\"V19\" name=\"V19\" step=\"any\" min=\"-4.0\" max=\"100.0\" placeholder=\"0\" required=\"required\">\n",
        "<label for=\"floatingInput\">Enter value of V19</label>\n",
        "</div>\n",
        "<br>\n",
        "\n",
        "<div class=\"form-floating mb-3\">\n",
        "\n",
        "<input type=\"number\" class=\"form-control\" id=\"V20\" name=\"V20\" step=\"any\" min=\"-5.0\" max=\"100.0\" placeholder=\"0\" required=\"required\">\n",
        "<label for=\"floatingInput\">Enter value of V20</label>\n",
        "</div>\n",
        "<br>\n",
        "\n",
        "<div class=\"form-floating mb-3\">\n",
        "\n",
        "<input type=\"number\" class=\"form-control\" id=\"V21\" name=\"V21\" step=\"any\" min=\"-23.0\" max=\"100.0\" placeholder=\"0\" required=\"required\">\n",
        "<label for=\"floatingInput\">Enter value of V21</label>\n",
        "</div>\n",
        "<br>\n",
        "\n",
        "<div class=\"form-floating mb-3\">\n",
        "\n",
        "<input type=\"number\" class=\"form-control\" id=\"V22\" name=\"V22\" step=\"any\" min=\"-9.0\" max=\"100.0\" placeholder=\"0\" required=\"required\">\n",
        "<label for=\"floatingInput\">Enter value of V22</label>\n",
        "</div>\n",
        "<br>\n",
        "\n",
        "<div class=\"form-floating mb-3\">\n",
        "\n",
        "<input type=\"number\" class=\"form-control\" id=\"V23\" name=\"V23\" step=\"any\" min=\"-20.0\" max=\"100.0\" placeholder=\"0\" required=\"required\">\n",
        "<label for=\"floatingInput\">Enter value of V23</label>\n",
        "</div>\n",
        "<br>\n",
        "\n",
        "<div class=\"form-floating mb-3\">\n",
        "\n",
        "<input type=\"number\" class=\"form-control\" id=\"V24\" name=\"V24\" step=\"any\" min=\"-3.0\" max=\"100.0\" placeholder=\"0\" required=\"required\">\n",
        "<label for=\"floatingInput\">Enter value of V24</label>\n",
        "</div>\n",
        "<br>\n",
        "\n",
        "<div class=\"form-floating mb-3\">\n",
        "\n",
        "<input type=\"number\" class=\"form-control\" id=\"V25\" name=\"V25\" step=\"any\" min=\"-5.0\" max=\"100.0\" placeholder=\"0\" required=\"required\">\n",
        "<label for=\"floatingInput\">Enter value of V25</label>\n",
        "</div>\n",
        "<br>\n",
        "\n",
        "<div class=\"form-floating mb-3\">\n",
        "\n",
        "<input type=\"number\" class=\"form-control\" id=\"V26\" name=\"V26\" step=\"any\" min=\"-2.0\" max=\"100.0\" placeholder=\"0\" required=\"required\">\n",
        "<label for=\"floatingInput\">Enter value of V26</label>\n",
        "</div>\n",
        "<br>\n",
        "\n",
        "<div class=\"form-floating mb-3\">\n",
        "\n",
        "<input type=\"number\" class=\"form-control\" id=\"V27\" name=\"V27\" step=\"any\" min=\"-8.0\" max=\"100.0\" placeholder=\"0\" required=\"required\">\n",
        "<label for=\"floatingInput\">Enter value of V27</label>\n",
        "</div>\n",
        "<br>\n",
        "\n",
        "<div class=\"form-floating mb-3\">\n",
        "\n",
        "<input type=\"number\" class=\"form-control\" id=\"V28\" name=\"V28\" step=\"any\" min=\"-2.0\" max=\"100.0\" placeholder=\"0\" required=\"required\">\n",
        "<label for=\"floatingInput\">Enter value of V28</label>\n",
        "</div>\n",
        "<br>\n",
        "\n",
        "<div class=\"form-floating mb-3\">\n",
        "\n",
        "<input type=\"number\" class=\"form-control\" id=\"Amount\" name=\"Amount\" step=\"any\" min=\"0.0\" max=\"5000.0\" placeholder=\"0\" required=\"required\">\n",
        "<label for=\"floatingInput\">Enter value of Amount</label>\n",
        "</div>\n",
        "<br>\n",
        "\n",
        "<br>\n",
        " <div class=\"col-md-4\" style=\"color: #FFF;\">\n",
        "                <label for=\"inputState\" class=\"form-label\">Choose a Model</label>\n",
        "                <select id=\"Model\" name =\"Model\" step = \"any\" class=\"form-select\" required>\n",
        "                    <option selected>Logistic Prediction</option>\n",
        "                    <option>KNN Prediction</option>\n",
        "                    <option>Decision Tree Prediction</option>\n",
        "                    <option>Random Forest Prediction</option>\n",
        "                    <option>SVM Prediction</option>\n",
        "                </select>\n",
        "            </div>\n",
        "            <br>\n",
        "            <div class=\"col-12\">\n",
        "                <button type=\"submit\" value=\"NB\" name=\"NB\" class=\"btn btn-outline-danger\">Submit</button>\n",
        "            </div>\n",
        "</form>\n",
        "<br>\n",
        "<br>\n",
        "\n",
        "<div class=\"myDiv\">\n",
        "<h2>\n",
        "{{ prediction_text }}\n",
        "</h2>\n",
        "</div>\n",
        "\n",
        "</div>\n",
        "\n",
        "<div class=\"\" style=\"background-color:green;\" >\n",
        "<div class=\"clearfix\">\n",
        "           \n",
        "<div class=\"col-md-12\">\n",
        " <center><p style=\"font-size:25px;color:white;margin-top:20px;border: 10px outset #37b486;\">Experiment Performed in Summer internship 2022 from 27 June to 8 August </p></center> \n",
        "</div>\n",
        "</div>\n",
        "</div>\n",
        "    <br>\n",
        "    \n",
        "    <div class=\"col-md-12\">\n",
        "              <center><h3 class=\"section-title\" style=\"text-align: center;\">Sponsored by</h3></center>\n",
        "            </div>\n",
        "          \n",
        "          <br>\n",
        "          <br>\n",
        "    \n",
        "      <div class=\"container\">\n",
        "        <div class=\"row\">\n",
        "            <div class=\"col-xs-12 col-md-4\">\n",
        "                <div class=\"card mb-3\">\n",
        "            \n",
        "                    <div class=\"card\">\n",
        "                        <img style=\"max-height: 200px;\" src=\"{{ url_for('static',filename = 'image/AICTEIdeaLabFooterLogo.png')  }}\"\n",
        "                            class=\"card-img-top\" alt=\"...\">\n",
        "                        <div class=\"card-body\">\n",
        "                            <h5 class=\"card-title\" style=\"text-align:center\">IDEA LAB</h5>\n",
        "                            \n",
        "                        </div>\n",
        "            \n",
        "            \n",
        "                    </div>\n",
        "                </div>\n",
        "            </div>\n",
        "            \n",
        "            <div class=\"col-xs-12 col-md-4\">\n",
        "                <div class=\"card mb-3\">\n",
        "            \n",
        "                    <div class=\"card\">\n",
        "                        <img style=\"max-height: 200px;\" src=\"{{ url_for('static',filename = 'image/nbanew.png')  }}\"\n",
        "                            class=\"card-img-top\" alt=\"...\">\n",
        "                        <div class=\"card-body\">\n",
        "                            <h5 class=\"card-title\" style=\"text-align:center\">NBA</h5>\n",
        "                            \n",
        "                        </div>\n",
        "            \n",
        "            \n",
        "                    </div>\n",
        "                </div>\n",
        "            </div>\n",
        "            \n",
        "            <div class=\"col-xs-10 col-md-3\">\n",
        "                <div class=\"card mb-3\">\n",
        "\n",
        "                    <div class=\"card\">\n",
        "                        <img style=\"max-height: 200px;\"\n",
        "                            src=\"{{ url_for('static',filename = 'image/aicte-logo.png')  }}\"\n",
        "                            class=\"card-img-top\" alt=\"...\">\n",
        "                        <div class=\"card-body\">\n",
        "                            <h5 class=\"card-title\"; style=\"text-align:center\">AICTE MODROB DEEP LEARNING LAB</h5>\n",
        "                            \n",
        "                        </div>\n",
        "\n",
        "                    </div>\n",
        "\n",
        "                </div>\n",
        "            </div>\n",
        "        \n",
        "               \n",
        "    \n",
        "    <br><br><br><br><br>\n",
        "    <div class=\"fixed-bottom \">\n",
        "        <div class=\"bg-secondary \" style=\"min-height: 40px;\">\n",
        "\n",
        "            <marquee style=\"color:#fff; margin-top: 7px;\">\n",
        "                <h9>Developed by Department of Computer Engineering, PIET</h9>\n",
        "            </marquee>\n",
        "        </div>\n",
        "    </div>\n",
        "    <!-- change later-->\n",
        "    <script src=\"{{ url_for('static',filename = 'js/bootstrap.bundle.min.js')  }}\"></script>\n",
        "</body>\n",
        "</html>"
      ],
      "metadata": {
        "id": "GY2D-2VrJjQ5",
        "colab": {
          "base_uri": "https://localhost:8080/"
        },
        "outputId": "12fffcf4-f256-4560-8735-c2c5eab9291b"
      },
      "execution_count": null,
      "outputs": [
        {
          "output_type": "stream",
          "name": "stdout",
          "text": [
            "Overwriting templates/index.html\n"
          ]
        }
      ]
    },
    {
      "cell_type": "code",
      "source": [
        "%%writefile templates/aboutme.html\n",
        "<!doctype html>\n",
        "<html lang=\"en\">\n",
        "\n",
        "<head>\n",
        "    <!-- Required meta tags -->\n",
        "    <meta charset=\"utf-8\">\n",
        "    <meta name=\"viewport\" content=\"width=device-width, initial-scale=1\">\n",
        "    <script type=\"text/javascript\" src=\"http://ajax.googleapis.com/ajax/libs/jquery/1.6.2/jquery.min.js\"></script>\n",
        "<script src=\"https://cdn.jsdelivr.net/npm/bootstrap@5.0.2/dist/js/bootstrap.bundle.min.js\" integrity=\"sha384-MrcW6ZMFYlzcLA8Nl+NtUVF0sA7MsXsP1UyJoMp4YLEuNSfAP+JcXn/tWtIaxVXM\" crossorigin=\"anonymous\"></script>\n",
        "    <!-- Bootstrap CSS -->\n",
        "    <link href=\"{{ url_for('static',filename = 'css/bootstrap.min.css')  }}\" rel=\"stylesheet\">\n",
        "\n",
        "    <title>About</title>\n",
        "    <style>\n",
        "ul {\n",
        "  list-style-type: none;\n",
        "  margin: 0;\n",
        "  padding: 0;\n",
        "  overflow: hidden;\n",
        "  background-color: #333;\n",
        "}\n",
        "\n",
        "li {\n",
        "  float: left;\n",
        "}\n",
        "\n",
        "li a {\n",
        "  display: block;\n",
        "  color: white;\n",
        "  text-align: center;\n",
        "  padding: 14px 16px;\n",
        "  text-decoration: none;\n",
        "}\n",
        "\n",
        "li a:hover {\n",
        "  background-color: #111;\n",
        "}\n",
        ".myDiv {\n",
        "  border: 10px outset #577ac0b5;\n",
        "  background-color: #917a3778;    \n",
        "  text-align: center;\n",
        "  color: white;\n",
        "}\n",
        "\n",
        ".my_Div {\n",
        "  border: 10px outset #7bf797;\n",
        "  background-color: #da4f8e;    \n",
        "  text-align: center;\n",
        "}\n",
        "\n",
        "\n",
        ".myReference {\n",
        "  border: 10px outset #f7f37bc2;\n",
        "  background-color: #210b0bc7;    \n",
        "  text-align: center;\n",
        "}\n",
        "\n",
        ".button {\n",
        "  background-color: lightblue;\n",
        "  border: none;\n",
        "  color: white;\n",
        "  padding: 16px 32px;\n",
        "  text-align: center;\n",
        "  text-decoration: none;\n",
        "  display: inline-block;\n",
        "  font-size: 16px;\n",
        "  margin: 4px 2px;\n",
        "  transition-duration: 0.4s;\n",
        "  cursor: pointer;\n",
        "\n",
        "}\n",
        ".button1 {\n",
        "  background-color: white; \n",
        "  color: black; \n",
        "  border: 5px solid #7e50c4db;\n",
        "}\n",
        "\n",
        ".button1:hover {\n",
        "  background-color: #f64949ab;\n",
        "  color: aqua;\n",
        "}\n",
        "\n",
        ".button2 {\n",
        "  background-color: white; \n",
        "  color: black; \n",
        "  border: 5px solid #bd4d73c9;\n",
        "}\n",
        "\n",
        ".button2:hover {\n",
        "  background-color: #0eab60;\n",
        "  color: aqua;\n",
        "}\n",
        ".blink {\n",
        "            animation: blinker 1.5s linear infinite;\n",
        "            color: burlywood;\n",
        "            font-family: sans-serif;\n",
        "        }\n",
        "        @keyframes blinker {\n",
        "            50% {\n",
        "                opacity: 0;\n",
        "            }\n",
        "        }\n",
        "        \n",
        ".blink1 {\n",
        "            animation: blinker 1.5s linear infinite;\n",
        "            color: azure;\n",
        "            font-family: sans-serif;\n",
        "        }\n",
        "        @keyframes blinker {\n",
        "            50% {\n",
        "                opacity: 0;\n",
        "            }\n",
        "        }\n",
        "        \n",
        ".animate-charcter\n",
        "{\n",
        "   text-transform: uppercase;\n",
        "  background-image: linear-gradient(\n",
        "    -225deg,\n",
        "    #231557 0%,\n",
        "    #44107a 29%,\n",
        "    #ff1361 67%,\n",
        "    #fff800 100%\n",
        "  );\n",
        "  background-size: auto auto;\n",
        "  background-clip: border-box;\n",
        "  background-size: 200% auto;\n",
        "  color: #fff;\n",
        "  background-clip: text;\n",
        "  text-fill-color: transparent;\n",
        "  -webkit-background-clip: text;\n",
        "  -webkit-text-fill-color: transparent;\n",
        "  animation: textclip 2s linear infinite;\n",
        "  display: inline-block;\n",
        "      font-size: 50px;\n",
        "}\n",
        "\n",
        "@keyframes textclip {\n",
        "  to {\n",
        "    background-position: 200% center;\n",
        "  }\n",
        "}\n",
        "\n",
        "</style>\n",
        "</head>\n",
        "\n",
        "<body>\n",
        "    <nav style=\"width: 100%;\" class=\"myReference\">\n",
        "        <a class=\"  navbar-brand\" href=\"#\" style=\"margin-left: 0px; margin-top: 0px; margin-right: 0px; margin-botttom: 0px;\">\n",
        "             <img style=\"max-height: auto; width:100%;\" src=\"{{ url_for('static',filename = 'image/PIET logo with tagline.jpg')  }}\" \n",
        "             class=\"img-responsive\" style=\"margin-top:0px;style=width: auto; height: auto; min-width:100%; min-height: auto;\">\n",
        "          \n",
        "          \n",
        "          \n",
        "              \n",
        "              <ul class='nav-links'>\n",
        " <li><a class=\"active\" href=\"/\">Home</a></li>\n",
        "</ul>\n",
        "            \n",
        "      </div>\n",
        "           \n",
        "        </a>\n",
        "        \n",
        "    </nav>\n",
        "\n",
        "    <div class=\"myReference\">\n",
        "        <div class=\"row\">\n",
        "            <div class=\"col-5 d-none d-sm-block d-sm-none d-md-block d-md-none d-lg-block\">\n",
        "\n",
        "                <img src=\"{{ url_for('static',filename = 'image/Auriga.jpeg')  }}\" class=\"img-fluid\"\n",
        "                    style=\"width: auto; height: auto; min-width: 500px;min-height: 600px;\">\n",
        "\n",
        "            </div>\n",
        "\n",
        "            <div class=\"col-xs-12 col-sm-12 col-md-12 col-lg-7 \" style=\" padding: 30px;\">\n",
        "                <h1 class=\"animate-charcter\">About Poornima</h1>\n",
        "                <br>\n",
        "                <p style=\"font-size:20px;text-align:justify; color:blue\">The Department of Computer Engineering was incepted in the year 2007 with the vision, “To create an environment in which new ideas, research and technology development and the technocrats and innovators of tomorrow become competent to face the global challenges”, In these academic years Department of Computer Engineering (CS), PIET has achieved lot of success and earn many achievements. I am glad to inform that Department has been accredited by National Board of Accreditation (NBA) in year 2017-18 and it is now in elite list of departments in India. It has taken initiative to start own portal for the home assignment submission and awarding marks. There is many other software are also used which are developed by the faculty members and students of Department such as cspiet.poornima.org, KYS, cstech.poornima.org. Because of all this efforts and team work Department has been recognized as one of the most innovative department in Poornima foundation. </p>\n",
        "              \n",
        "                \n",
        "                <br><br>\n",
        "                \n",
        "            </div>\n",
        "        </div>\n",
        "    </div>\n",
        "<h1 style=\"text-align:center\">Contribution</h1>\n",
        "    <div class=\"container\">\n",
        "        <div class=\"row\">\n",
        "            <div class=\"col-xs-12 col-md-4\">\n",
        "                \n",
        "            </div>\n",
        "            \n",
        "         <div class=\"col-xs-12 col-md-4\">\n",
        "                <div class=\"card mb-4\">\n",
        "            \n",
        "                    <div class=\"myReference\">\n",
        "                        <img style=\"max-height: 500px;\" src=\"{{ url_for('static',filename = 'image/AlokSnapFinal.jpg')  }}\"\n",
        "                            class=\"card-img-top\" alt=\"...\">\n",
        "                        <div class=\"card-body\">\n",
        "                            <p class=\"card-text\"; style=\"text-align:justify\">Alok Raj, Student, Department of Computer Engineering, PIET</p>\n",
        "            \n",
        "                            \n",
        "                        </div>\n",
        "            \n",
        "            \n",
        "                    </div>\n",
        "                </div>\n",
        "            </div>\n",
        "                 \n",
        "    <br><br><br><br><br><br>\n",
        "    \n",
        "     <h1 class=\"animate-charcter\">About Me</h1>\n",
        "      <br><br>\n",
        "     <P style=\"font-size:20px;text-align:justify\">Alok Raj a 3rd year student at Poornima Institute of Engineering and Technology in Computer Science Branch.I have technical skills like C, C++, Python, Machine Learning.<br>\n",
        "     </P>     \n",
        "   <br>\n",
        "   <br>\n",
        "   \n",
        "               \n",
        "                \n",
        "                \n",
        "     <br>\n",
        "     <br>\n",
        "     <br><br><br><br><br><br>\n",
        "    \n",
        "    <div class=\"myDiv\">\n",
        "        <marquee class=\"blink1\" width=\"80%\" direction=\"left\" scrollamount=\"12\" height=\"100px\">\n",
        "        <h1>\n",
        "            This model is developed by Alok Raj(Student of Computer Science Engineering Department) under the guidance of Deepak Moud, HOD of Computer Science Department, PIET \n",
        "            </h1>\n",
        "        </p>\n",
        "        </marquee>\n",
        "    </div>\n",
        "    <!-- change later-->\n",
        "    <script src=\"{{ url_for('static',filename = 'js/bootstrap.bundle.min.js')  }}\"></script>\n",
        "\n",
        "</body>\n",
        "\n",
        "</html>"
      ],
      "metadata": {
        "colab": {
          "base_uri": "https://localhost:8080/"
        },
        "id": "AD5nQAr2Tusl",
        "outputId": "9350ffd0-009b-429b-bede-cfa43f8e3a7f"
      },
      "execution_count": null,
      "outputs": [
        {
          "output_type": "stream",
          "name": "stdout",
          "text": [
            "Overwriting templates/aboutme.html\n"
          ]
        }
      ]
    },
    {
      "cell_type": "code",
      "source": [
        "#%%writefile templates/Minor.html\n",
        "\n"
      ],
      "metadata": {
        "colab": {
          "base_uri": "https://localhost:8080/"
        },
        "id": "Q2uhWzDJHEEo",
        "outputId": "74918f22-1a83-4276-c290-628c8c91752f"
      },
      "execution_count": null,
      "outputs": [
        {
          "output_type": "stream",
          "name": "stderr",
          "text": [
            "UsageError: %%writefile is a cell magic, but the cell body is empty.\n"
          ]
        }
      ]
    },
    {
      "cell_type": "code",
      "source": [
        "!pip install pyngrok"
      ],
      "metadata": {
        "colab": {
          "base_uri": "https://localhost:8080/"
        },
        "id": "2JFYoYDSrskx",
        "outputId": "75dafef6-213d-4aef-bd91-fa2a0d01efe1"
      },
      "execution_count": null,
      "outputs": [
        {
          "output_type": "stream",
          "name": "stdout",
          "text": [
            "Looking in indexes: https://pypi.org/simple, https://us-python.pkg.dev/colab-wheels/public/simple/\n",
            "Requirement already satisfied: pyngrok in /usr/local/lib/python3.7/dist-packages (5.1.0)\n",
            "Requirement already satisfied: PyYAML in /usr/local/lib/python3.7/dist-packages (from pyngrok) (3.13)\n"
          ]
        }
      ]
    },
    {
      "cell_type": "code",
      "source": [
        "!ngrok authtoken 2CT4MHWPe5W1c3i8WbPIkMfV3YB_7M1jKwhLC4HVFvS11Rbf"
      ],
      "metadata": {
        "colab": {
          "base_uri": "https://localhost:8080/"
        },
        "id": "YkwQg_AtsaGH",
        "outputId": "7b09391d-5945-4fd6-dcbf-e20c051a9485"
      },
      "execution_count": null,
      "outputs": [
        {
          "output_type": "stream",
          "name": "stdout",
          "text": [
            "Authtoken saved to configuration file: /root/.ngrok2/ngrok.yml\n"
          ]
        }
      ]
    },
    {
      "cell_type": "code",
      "source": [
        "import numpy as np\n",
        "from flask import Flask, request, jsonify, render_template\n",
        "from flask_ngrok import run_with_ngrok\n",
        "import pickle\n",
        "\n",
        "\n",
        "app = Flask(__name__)\n",
        "model0 = pickle.load(open('/content/drive/My Drive/Colab Notebooks/Logistic_Major.pkl','rb'))\n",
        "model1 = pickle.load(open('/content/drive/My Drive/Colab Notebooks/KNN_Major.pkl','rb'))\n",
        "model2 = pickle.load(open('/content/drive/My Drive/Colab Notebooks/Decision-Tree_Major.pkl','rb'))\n",
        "model3 = pickle.load(open('/content/drive/My Drive/Colab Notebooks/Random-Forest_Major.pkl','rb'))\n",
        "model4 = pickle.load(open('/content/drive/My Drive/Colab Notebooks/SVM_Major.pkl','rb'))\n",
        "run_with_ngrok(app)\n",
        "\n",
        "@app.route('/')\n",
        "def home():\n",
        "  \n",
        "    return render_template(\"index.html\")\n",
        "\n",
        "@app.route('/aboutme')\n",
        "def aboutusnew():\n",
        "    return render_template('aboutme.html')\n",
        "  \n",
        "@app.route('/predict',methods=['GET'])\n",
        "\n",
        "def predict():\n",
        "    \n",
        "    V1 = float(request.args.get('V1'))\n",
        "    V2 = float(request.args.get('V2'))\n",
        "    V3 = float(request.args.get('V3'))\n",
        "    V4 = float(request.args.get('V4'))\n",
        "    V5 = float(request.args.get('V5'))\n",
        "    V6 = float(request.args.get('V6'))\n",
        "    V7 = float(request.args.get('V7'))\n",
        "    V8 = float(request.args.get('V8'))\n",
        "    V9 = float(request.args.get('V9'))\n",
        "    V10 = float(request.args.get('V10'))\n",
        "    V11 = float(request.args.get('V11'))\n",
        "    V12 = float(request.args.get('V12'))\n",
        "    V13 = float(request.args.get('V13'))\n",
        "    V14 = float(request.args.get('V14'))\n",
        "    V15 = float(request.args.get('V15'))\n",
        "    V16 = float(request.args.get('V16'))\n",
        "    V17 = float(request.args.get('V17'))\n",
        "    V18 = float(request.args.get('V18'))\n",
        "    V19 = float(request.args.get('V19'))\n",
        "    V20 = float(request.args.get('V20'))\n",
        "    V21 = float(request.args.get('V21'))\n",
        "    V22 = float(request.args.get('V22'))\n",
        "    V23 = float(request.args.get('V23'))\n",
        "    V24 = float(request.args.get('V24'))\n",
        "    V25 = float(request.args.get('V25'))\n",
        "    V26 = float(request.args.get('V26'))\n",
        "    V27 = float(request.args.get('V27'))\n",
        "    V28 = float(request.args.get('V28'))\n",
        "    Amount = float(request.args.get('Amount'))\n",
        "\n",
        "# CreditScore\tGeography\tGender\tAge\tTenure\tBalance\tNumOfProducts\tHasCrCard\tIsActiveMember\tEstimatedSalary\n",
        "    Model = str(request.args.get('Model'))\n",
        "\n",
        "    if Model=='Logistic Prediction':\n",
        "      prediction = model0.predict([[V1,V2,V3,V4,V5,V6,V7,V8,V9,V10,V11,V12,V13,V14,V15,V16,V17,V18,V19,V20,V21,V22,V23,V24,V25,V26,V27,V28,Amount]])\n",
        "    \n",
        "    elif Model=='KNN Prediction':\n",
        "      prediction = model1.predict([[V1,V2,V3,V4,V5,V6,V7,V8,V9,V10,V11,V12,V13,V14,V15,V16,V17,V18,V19,V20,V21,V22,V23,V24,V25,V26,V27,V28,Amount]])\n",
        "    \n",
        "    elif Model=='Decision Tree Prediction':\n",
        "      prediction = model2.predict([[V1,V2,V3,V4,V5,V6,V7,V8,V9,V10,V11,V12,V13,V14,V15,V16,V17,V18,V19,V20,V21,V22,V23,V24,V25,V26,V27,V28,Amount]])\n",
        "\n",
        "    elif Model=='Random Forest Prediction':\n",
        "      prediction = model3.predict([[V1,V2,V3,V4,V5,V6,V7,V8,V9,V10,V11,V12,V13,V14,V15,V16,V17,V18,V19,V20,V21,V22,V23,V24,V25,V26,V27,V28,Amount]])\n",
        "\n",
        "    else:\n",
        "      prediction = model4.predict([[V1,V2,V3,V4,V5,V6,V7,V8,V9,V10,V11,V12,V13,V14,V15,V16,V17,V18,V19,V20,V21,V22,V23,V24,V25,V26,V27,V28,Amount]])\n",
        "\n",
        "    \n",
        "    if prediction == [1]:\n",
        "      text = \"It is a Fraud\"\n",
        "    else:\n",
        "      text = \"It is not Fraud\"\n",
        "\n",
        "    return render_template('index.html', prediction_text= 'Prediction says: {}'.format(text))\n",
        "\n",
        "app.run()\n"
      ],
      "metadata": {
        "colab": {
          "base_uri": "https://localhost:8080/"
        },
        "id": "xrNj37fXsgLY",
        "outputId": "7c9ba33a-5968-4cba-aa84-09c6b6a920f6"
      },
      "execution_count": null,
      "outputs": [
        {
          "output_type": "stream",
          "name": "stdout",
          "text": [
            " * Serving Flask app \"__main__\" (lazy loading)\n",
            " * Environment: production\n",
            "\u001b[31m   WARNING: This is a development server. Do not use it in a production deployment.\u001b[0m\n",
            "\u001b[2m   Use a production WSGI server instead.\u001b[0m\n",
            " * Debug mode: off\n"
          ]
        },
        {
          "output_type": "stream",
          "name": "stderr",
          "text": [
            "INFO:werkzeug: * Running on http://127.0.0.1:5000/ (Press CTRL+C to quit)\n"
          ]
        },
        {
          "output_type": "stream",
          "name": "stdout",
          "text": [
            " * Running on http://1096-34-148-207-118.ngrok.io\n",
            " * Traffic stats available on http://127.0.0.1:4040\n"
          ]
        },
        {
          "output_type": "stream",
          "name": "stderr",
          "text": [
            "INFO:werkzeug:127.0.0.1 - - [18/Aug/2022 18:18:26] \"\u001b[37mGET / HTTP/1.1\u001b[0m\" 200 -\n",
            "INFO:werkzeug:127.0.0.1 - - [18/Aug/2022 18:18:26] \"\u001b[33mGET /static/js/bootstrap.bundle.min.js HTTP/1.1\u001b[0m\" 404 -\n",
            "INFO:werkzeug:127.0.0.1 - - [18/Aug/2022 18:18:26] \"\u001b[37mGET /static/image/PIET%20logo%20with%20tagline.jpg HTTP/1.1\u001b[0m\" 200 -\n",
            "INFO:werkzeug:127.0.0.1 - - [18/Aug/2022 18:18:26] \"\u001b[37mGET /static/image/nbanew.png HTTP/1.1\u001b[0m\" 200 -\n",
            "INFO:werkzeug:127.0.0.1 - - [18/Aug/2022 18:18:26] \"\u001b[37mGET /static/image/aicte-logo.png HTTP/1.1\u001b[0m\" 200 -\n",
            "INFO:werkzeug:127.0.0.1 - - [18/Aug/2022 18:18:26] \"\u001b[37mGET /static/image/AICTEIdeaLabFooterLogo.png HTTP/1.1\u001b[0m\" 200 -\n",
            "INFO:werkzeug:127.0.0.1 - - [18/Aug/2022 18:18:29] \"\u001b[33mGET /favicon.ico HTTP/1.1\u001b[0m\" 404 -\n",
            "INFO:werkzeug:127.0.0.1 - - [18/Aug/2022 18:18:39] \"\u001b[37mGET /aboutme HTTP/1.1\u001b[0m\" 200 -\n",
            "INFO:werkzeug:127.0.0.1 - - [18/Aug/2022 18:18:39] \"\u001b[37mGET /static/css/bootstrap.min.css HTTP/1.1\u001b[0m\" 200 -\n",
            "INFO:werkzeug:127.0.0.1 - - [18/Aug/2022 18:18:39] \"\u001b[33mGET /static/js/bootstrap.bundle.min.js HTTP/1.1\u001b[0m\" 404 -\n",
            "INFO:werkzeug:127.0.0.1 - - [18/Aug/2022 18:18:39] \"\u001b[37mGET /static/image/AlokSnapFinal.jpg HTTP/1.1\u001b[0m\" 200 -\n",
            "INFO:werkzeug:127.0.0.1 - - [18/Aug/2022 18:18:39] \"\u001b[37mGET /static/image/Auriga.jpeg HTTP/1.1\u001b[0m\" 200 -\n"
          ]
        }
      ]
    },
    {
      "cell_type": "code",
      "source": [],
      "metadata": {
        "id": "WTJqD5WW8hi7"
      },
      "execution_count": null,
      "outputs": []
    }
  ],
  "metadata": {
    "colab": {
      "provenance": []
    },
    "kernelspec": {
      "display_name": "Python 3",
      "name": "python3"
    },
    "language_info": {
      "name": "python"
    }
  },
  "nbformat": 4,
  "nbformat_minor": 0
}